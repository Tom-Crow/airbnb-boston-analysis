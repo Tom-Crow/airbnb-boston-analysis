{
 "cells": [
  {
   "cell_type": "code",
   "execution_count": 1,
   "metadata": {},
   "outputs": [],
   "source": [
    "import datetime as dt\n",
    "import itertools\n",
    "import matplotlib.pyplot as plt\n",
    "import numpy as np\n",
    "import pandas as pd\n",
    "import re\n",
    "import seaborn as sns\n",
    "from scipy import stats\n",
    "\n",
    "%matplotlib inline"
   ]
  },
  {
   "cell_type": "code",
   "execution_count": 2,
   "metadata": {
    "scrolled": true
   },
   "outputs": [
    {
     "data": {
      "text/html": [
       "<div>\n",
       "<style scoped>\n",
       "    .dataframe tbody tr th:only-of-type {\n",
       "        vertical-align: middle;\n",
       "    }\n",
       "\n",
       "    .dataframe tbody tr th {\n",
       "        vertical-align: top;\n",
       "    }\n",
       "\n",
       "    .dataframe thead th {\n",
       "        text-align: right;\n",
       "    }\n",
       "</style>\n",
       "<table border=\"1\" class=\"dataframe\">\n",
       "  <thead>\n",
       "    <tr style=\"text-align: right;\">\n",
       "      <th></th>\n",
       "      <th>id</th>\n",
       "      <th>listing_url</th>\n",
       "      <th>scrape_id</th>\n",
       "      <th>last_scraped</th>\n",
       "      <th>name</th>\n",
       "      <th>summary</th>\n",
       "      <th>space</th>\n",
       "      <th>description</th>\n",
       "      <th>experiences_offered</th>\n",
       "      <th>neighborhood_overview</th>\n",
       "      <th>...</th>\n",
       "      <th>review_scores_value</th>\n",
       "      <th>requires_license</th>\n",
       "      <th>license</th>\n",
       "      <th>jurisdiction_names</th>\n",
       "      <th>instant_bookable</th>\n",
       "      <th>cancellation_policy</th>\n",
       "      <th>require_guest_profile_picture</th>\n",
       "      <th>require_guest_phone_verification</th>\n",
       "      <th>calculated_host_listings_count</th>\n",
       "      <th>reviews_per_month</th>\n",
       "    </tr>\n",
       "  </thead>\n",
       "  <tbody>\n",
       "    <tr>\n",
       "      <th>0</th>\n",
       "      <td>12147973</td>\n",
       "      <td>https://www.airbnb.com/rooms/12147973</td>\n",
       "      <td>20160906204935</td>\n",
       "      <td>2016-09-07</td>\n",
       "      <td>Sunny Bungalow in the City</td>\n",
       "      <td>Cozy, sunny, family home.  Master bedroom high...</td>\n",
       "      <td>The house has an open and cozy feel at the sam...</td>\n",
       "      <td>Cozy, sunny, family home.  Master bedroom high...</td>\n",
       "      <td>none</td>\n",
       "      <td>Roslindale is quiet, convenient and friendly. ...</td>\n",
       "      <td>...</td>\n",
       "      <td>NaN</td>\n",
       "      <td>f</td>\n",
       "      <td>NaN</td>\n",
       "      <td>NaN</td>\n",
       "      <td>f</td>\n",
       "      <td>moderate</td>\n",
       "      <td>f</td>\n",
       "      <td>f</td>\n",
       "      <td>1</td>\n",
       "      <td>NaN</td>\n",
       "    </tr>\n",
       "    <tr>\n",
       "      <th>1</th>\n",
       "      <td>3075044</td>\n",
       "      <td>https://www.airbnb.com/rooms/3075044</td>\n",
       "      <td>20160906204935</td>\n",
       "      <td>2016-09-07</td>\n",
       "      <td>Charming room in pet friendly apt</td>\n",
       "      <td>Charming and quiet room in a second floor 1910...</td>\n",
       "      <td>Small but cozy and quite room with a full size...</td>\n",
       "      <td>Charming and quiet room in a second floor 1910...</td>\n",
       "      <td>none</td>\n",
       "      <td>The room is in Roslindale, a diverse and prima...</td>\n",
       "      <td>...</td>\n",
       "      <td>9.0</td>\n",
       "      <td>f</td>\n",
       "      <td>NaN</td>\n",
       "      <td>NaN</td>\n",
       "      <td>t</td>\n",
       "      <td>moderate</td>\n",
       "      <td>f</td>\n",
       "      <td>f</td>\n",
       "      <td>1</td>\n",
       "      <td>1.30</td>\n",
       "    </tr>\n",
       "    <tr>\n",
       "      <th>2</th>\n",
       "      <td>6976</td>\n",
       "      <td>https://www.airbnb.com/rooms/6976</td>\n",
       "      <td>20160906204935</td>\n",
       "      <td>2016-09-07</td>\n",
       "      <td>Mexican Folk Art Haven in Boston</td>\n",
       "      <td>Come stay with a friendly, middle-aged guy in ...</td>\n",
       "      <td>Come stay with a friendly, middle-aged guy in ...</td>\n",
       "      <td>Come stay with a friendly, middle-aged guy in ...</td>\n",
       "      <td>none</td>\n",
       "      <td>The LOCATION: Roslindale is a safe and diverse...</td>\n",
       "      <td>...</td>\n",
       "      <td>10.0</td>\n",
       "      <td>f</td>\n",
       "      <td>NaN</td>\n",
       "      <td>NaN</td>\n",
       "      <td>f</td>\n",
       "      <td>moderate</td>\n",
       "      <td>t</td>\n",
       "      <td>f</td>\n",
       "      <td>1</td>\n",
       "      <td>0.47</td>\n",
       "    </tr>\n",
       "    <tr>\n",
       "      <th>3</th>\n",
       "      <td>1436513</td>\n",
       "      <td>https://www.airbnb.com/rooms/1436513</td>\n",
       "      <td>20160906204935</td>\n",
       "      <td>2016-09-07</td>\n",
       "      <td>Spacious Sunny Bedroom Suite in Historic Home</td>\n",
       "      <td>Come experience the comforts of home away from...</td>\n",
       "      <td>Most places you find in Boston are small howev...</td>\n",
       "      <td>Come experience the comforts of home away from...</td>\n",
       "      <td>none</td>\n",
       "      <td>Roslindale is a lovely little neighborhood loc...</td>\n",
       "      <td>...</td>\n",
       "      <td>10.0</td>\n",
       "      <td>f</td>\n",
       "      <td>NaN</td>\n",
       "      <td>NaN</td>\n",
       "      <td>f</td>\n",
       "      <td>moderate</td>\n",
       "      <td>f</td>\n",
       "      <td>f</td>\n",
       "      <td>1</td>\n",
       "      <td>1.00</td>\n",
       "    </tr>\n",
       "    <tr>\n",
       "      <th>4</th>\n",
       "      <td>7651065</td>\n",
       "      <td>https://www.airbnb.com/rooms/7651065</td>\n",
       "      <td>20160906204935</td>\n",
       "      <td>2016-09-07</td>\n",
       "      <td>Come Home to Boston</td>\n",
       "      <td>My comfy, clean and relaxing home is one block...</td>\n",
       "      <td>Clean, attractive, private room, one block fro...</td>\n",
       "      <td>My comfy, clean and relaxing home is one block...</td>\n",
       "      <td>none</td>\n",
       "      <td>I love the proximity to downtown, the neighbor...</td>\n",
       "      <td>...</td>\n",
       "      <td>10.0</td>\n",
       "      <td>f</td>\n",
       "      <td>NaN</td>\n",
       "      <td>NaN</td>\n",
       "      <td>f</td>\n",
       "      <td>flexible</td>\n",
       "      <td>f</td>\n",
       "      <td>f</td>\n",
       "      <td>1</td>\n",
       "      <td>2.25</td>\n",
       "    </tr>\n",
       "  </tbody>\n",
       "</table>\n",
       "<p>5 rows × 95 columns</p>\n",
       "</div>"
      ],
      "text/plain": [
       "         id                            listing_url       scrape_id  \\\n",
       "0  12147973  https://www.airbnb.com/rooms/12147973  20160906204935   \n",
       "1   3075044   https://www.airbnb.com/rooms/3075044  20160906204935   \n",
       "2      6976      https://www.airbnb.com/rooms/6976  20160906204935   \n",
       "3   1436513   https://www.airbnb.com/rooms/1436513  20160906204935   \n",
       "4   7651065   https://www.airbnb.com/rooms/7651065  20160906204935   \n",
       "\n",
       "  last_scraped                                           name  \\\n",
       "0   2016-09-07                     Sunny Bungalow in the City   \n",
       "1   2016-09-07              Charming room in pet friendly apt   \n",
       "2   2016-09-07               Mexican Folk Art Haven in Boston   \n",
       "3   2016-09-07  Spacious Sunny Bedroom Suite in Historic Home   \n",
       "4   2016-09-07                            Come Home to Boston   \n",
       "\n",
       "                                             summary  \\\n",
       "0  Cozy, sunny, family home.  Master bedroom high...   \n",
       "1  Charming and quiet room in a second floor 1910...   \n",
       "2  Come stay with a friendly, middle-aged guy in ...   \n",
       "3  Come experience the comforts of home away from...   \n",
       "4  My comfy, clean and relaxing home is one block...   \n",
       "\n",
       "                                               space  \\\n",
       "0  The house has an open and cozy feel at the sam...   \n",
       "1  Small but cozy and quite room with a full size...   \n",
       "2  Come stay with a friendly, middle-aged guy in ...   \n",
       "3  Most places you find in Boston are small howev...   \n",
       "4  Clean, attractive, private room, one block fro...   \n",
       "\n",
       "                                         description experiences_offered  \\\n",
       "0  Cozy, sunny, family home.  Master bedroom high...                none   \n",
       "1  Charming and quiet room in a second floor 1910...                none   \n",
       "2  Come stay with a friendly, middle-aged guy in ...                none   \n",
       "3  Come experience the comforts of home away from...                none   \n",
       "4  My comfy, clean and relaxing home is one block...                none   \n",
       "\n",
       "                               neighborhood_overview  ... review_scores_value  \\\n",
       "0  Roslindale is quiet, convenient and friendly. ...  ...                 NaN   \n",
       "1  The room is in Roslindale, a diverse and prima...  ...                 9.0   \n",
       "2  The LOCATION: Roslindale is a safe and diverse...  ...                10.0   \n",
       "3  Roslindale is a lovely little neighborhood loc...  ...                10.0   \n",
       "4  I love the proximity to downtown, the neighbor...  ...                10.0   \n",
       "\n",
       "  requires_license license jurisdiction_names instant_bookable  \\\n",
       "0                f     NaN                NaN                f   \n",
       "1                f     NaN                NaN                t   \n",
       "2                f     NaN                NaN                f   \n",
       "3                f     NaN                NaN                f   \n",
       "4                f     NaN                NaN                f   \n",
       "\n",
       "  cancellation_policy require_guest_profile_picture  \\\n",
       "0            moderate                             f   \n",
       "1            moderate                             f   \n",
       "2            moderate                             t   \n",
       "3            moderate                             f   \n",
       "4            flexible                             f   \n",
       "\n",
       "  require_guest_phone_verification calculated_host_listings_count  \\\n",
       "0                                f                              1   \n",
       "1                                f                              1   \n",
       "2                                f                              1   \n",
       "3                                f                              1   \n",
       "4                                f                              1   \n",
       "\n",
       "   reviews_per_month  \n",
       "0                NaN  \n",
       "1               1.30  \n",
       "2               0.47  \n",
       "3               1.00  \n",
       "4               2.25  \n",
       "\n",
       "[5 rows x 95 columns]"
      ]
     },
     "execution_count": 2,
     "metadata": {},
     "output_type": "execute_result"
    }
   ],
   "source": [
    "listings_df = pd.read_csv('./listings.csv')\n",
    "listings_df.head()"
   ]
  },
  {
   "cell_type": "code",
   "execution_count": 3,
   "metadata": {},
   "outputs": [],
   "source": [
    "# Remove the columns that are just URLs, they won't help analysis or predictions\n",
    "\n",
    "url_cols = [x for x in listings_df.columns if 'url' in x]\n",
    "listings_df.drop(url_cols, axis=1, inplace=True)\n",
    "\n",
    "# Remove columns that are all of 1 value\n",
    "for col in listings_df.columns:\n",
    "    if len(listings_df[col].unique()) == 1:\n",
    "        listings_df.drop(col, axis=1, inplace=True)\n",
    "\n",
    "# Columns that have $ in every rows are monetary columns, turn these into floats\n",
    "for col in listings_df.select_dtypes('object').columns:\n",
    "    if listings_df[col].str.contains(\"\\$\").mean() == 1:\n",
    "        listings_df[col] = listings_df[col].replace('[\\$,]', '', regex=True).astype(float)"
   ]
  },
  {
   "cell_type": "code",
   "execution_count": 4,
   "metadata": {},
   "outputs": [],
   "source": [
    "cat_cols = listings_df.select_dtypes('object').columns\n",
    "num_cols = listings_df.select_dtypes(['float', 'int']).columns"
   ]
  },
  {
   "cell_type": "markdown",
   "metadata": {},
   "source": [
    "## Clean and standardize text columns"
   ]
  },
  {
   "cell_type": "code",
   "execution_count": 5,
   "metadata": {},
   "outputs": [],
   "source": [
    "def standardize_text(df, text_field):\n",
    "    \"\"\"\n",
    "    INPUT: DataFrame and text_field column\n",
    "    OUTPUT: DataFrame with text_field column standardized (e.g. caps turned to lower case, urls removed etc.)\n",
    "    \"\"\"\n",
    "    df[text_field] = df[text_field].str.replace(r\"http\\S+\", \"\", regex=True)\n",
    "    df[text_field] = df[text_field].str.replace(r\"http\", \"\", regex=True)\n",
    "    df[text_field] = df[text_field].str.replace(r\"@\\S+\", \"\", regex=True)\n",
    "    df[text_field] = df[text_field].str.replace(r\"[^A-Za-z0-9(),!?@\\'\\`\\\"\\_\\n]\", \" \", regex=True)\n",
    "    df[text_field] = df[text_field].str.replace(r\"@\", \"at\", regex=True)\n",
    "    df[text_field] = df[text_field].str.lower()\n",
    "    return df\n",
    "\n",
    "def remove_missing_amenities_from_list(amenities_list):\n",
    "    \"\"\"\n",
    "    INPUT: List of amenities strings\n",
    "    OUTPUT: List of amenities strings with unwanted strings (that have 'missing' in them) removed and excess spaces removed\n",
    "    \"\"\"\n",
    "    return [\" \".join(x.split()) for x in amenities_list if \"missing\" not in x]\n",
    "\n",
    "def clean_and_tokenize_amenities_column(df):\n",
    "    \"\"\"\n",
    "    INPUT: Listings DataFrame\n",
    "    OUTPUT: Listings DataFrame with amenities column cleaned and its elements tokenized\n",
    "    \"\"\"\n",
    "    df['amenities'] = df['amenities'].apply(lambda col: re.sub(\"[{}\\\"]\", \"\", col).lower().split(\",\"))\n",
    "    df['amenities'] = df['amenities'].apply(remove_missing_amenities_from_list)\n",
    "    return df"
   ]
  },
  {
   "cell_type": "code",
   "execution_count": 6,
   "metadata": {},
   "outputs": [],
   "source": [
    "# Standardize rest of the text-heavy columns\n",
    "\n",
    "for col in cat_cols:\n",
    "    listings_df = standardize_text(listings_df, col)"
   ]
  },
  {
   "cell_type": "markdown",
   "metadata": {},
   "source": [
    "# Deal with Missing/Misleading Data"
   ]
  },
  {
   "cell_type": "code",
   "execution_count": 7,
   "metadata": {},
   "outputs": [
    {
     "name": "stdout",
     "output_type": "stream",
     "text": [
      "summary has 3.99% values missing\n",
      "space has 29.48% values missing\n",
      "neighborhood_overview has 39.47% values missing\n",
      "notes has 55.09% values missing\n",
      "transit has 35.98% values missing\n",
      "access has 41.53% values missing\n",
      "interaction has 43.35% values missing\n",
      "house_rules has 33.25% values missing\n",
      "host_location has 0.31% values missing\n",
      "host_about has 36.51% values missing\n",
      "host_response_time has 13.14% values missing\n",
      "host_response_rate has 13.14% values missing\n",
      "host_acceptance_rate has 13.14% values missing\n",
      "host_neighbourhood has 9.46% values missing\n",
      "neighbourhood has 15.15% values missing\n",
      "city has 0.06% values missing\n",
      "zipcode has 1.06% values missing\n",
      "market has 0.39% values missing\n",
      "property_type has 0.08% values missing\n",
      "bathrooms has 0.39% values missing\n",
      "bedrooms has 0.28% values missing\n",
      "beds has 0.25% values missing\n",
      "square_feet has 98.44% values missing\n",
      "weekly_price has 75.12% values missing\n",
      "monthly_price has 75.23% values missing\n",
      "security_deposit has 62.57% values missing\n",
      "cleaning_fee has 30.88% values missing\n",
      "first_review has 21.09% values missing\n",
      "last_review has 21.09% values missing\n",
      "review_scores_rating has 22.68% values missing\n",
      "review_scores_accuracy has 22.96% values missing\n",
      "review_scores_cleanliness has 22.82% values missing\n",
      "review_scores_checkin has 22.87% values missing\n",
      "review_scores_communication has 22.82% values missing\n",
      "review_scores_location has 22.93% values missing\n",
      "review_scores_value has 22.90% values missing\n",
      "reviews_per_month has 21.09% values missing\n"
     ]
    }
   ],
   "source": [
    "# Check how much data is missing in each column\n",
    "\n",
    "for col in listings_df.columns:\n",
    "    if listings_df[col].isna().mean() > 0:\n",
    "        print(\"%s has %.2f%% values missing\" %(col, listings_df[col].isna().mean() * 100))"
   ]
  },
  {
   "cell_type": "markdown",
   "metadata": {},
   "source": [
    "### Amenities"
   ]
  },
  {
   "cell_type": "code",
   "execution_count": 8,
   "metadata": {},
   "outputs": [],
   "source": [
    "# todo remove the null amenities columns\n",
    "\n",
    "null_amenities_rows = listings_df[listings_df['amenities'].apply(lambda x: len(x)==2)].index"
   ]
  },
  {
   "cell_type": "markdown",
   "metadata": {},
   "source": [
    "### Text heavy columns with lots of NAs"
   ]
  },
  {
   "cell_type": "code",
   "execution_count": 9,
   "metadata": {},
   "outputs": [],
   "source": [
    "# Drop complex text-heavy columns with a lot of missing values (~30-50% missing)\n",
    "listings_df.drop(\n",
    "    [\n",
    "        'space', \n",
    "        'neighborhood_overview', \n",
    "        'notes', \n",
    "        'transit', \n",
    "        'access', \n",
    "        'interaction', \n",
    "        'house_rules',\n",
    "        'host_about',\n",
    "    ], axis=1, inplace=True\n",
    ")"
   ]
  },
  {
   "cell_type": "markdown",
   "metadata": {},
   "source": [
    "### City"
   ]
  },
  {
   "cell_type": "code",
   "execution_count": 10,
   "metadata": {
    "scrolled": true
   },
   "outputs": [
    {
     "name": "stdout",
     "output_type": "stream",
     "text": [
      "    has 0.03% of the total rows\n",
      "allston has 0.39% of the total rows\n",
      "boston has 94.34% of the total rows\n",
      "boston  has 0.03% of the total rows\n",
      "boston (charlestown) has 0.03% of the total rows\n",
      "boston (jamaica plain) has 0.03% of the total rows\n",
      "boston, massachusetts, us has 0.06% of the total rows\n",
      "brighton has 0.42% of the total rows\n",
      "brighton  has 0.03% of the total rows\n",
      "brookline has 0.50% of the total rows\n",
      "cambridge has 0.45% of the total rows\n",
      "charlestown has 0.42% of the total rows\n",
      "dorchester has 0.42% of the total rows\n",
      "dorchester, boston  has 0.03% of the total rows\n",
      "east boston has 0.08% of the total rows\n",
      "east boston  has 0.03% of the total rows\n",
      "hyde park has 0.06% of the total rows\n",
      "jamaica plain has 0.50% of the total rows\n",
      "jamaica plain  has 0.08% of the total rows\n",
      "jamaica plain (boston) has 0.03% of the total rows\n",
      "jamaica plain, boston has 0.06% of the total rows\n",
      "jamaica plain, ma has 0.03% of the total rows\n",
      "mattapan has 0.08% of the total rows\n",
      "milton has 0.03% of the total rows\n",
      "mission hill, boston has 0.03% of the total rows\n",
      "newton has 0.03% of the total rows\n",
      "roslindale has 0.17% of the total rows\n",
      "roslindale, boston has 0.03% of the total rows\n",
      "roxbury crossing has 0.78% of the total rows\n",
      "somerville has 0.53% of the total rows\n",
      "south boston has 0.06% of the total rows\n",
      "south end, boston has 0.03% of the total rows\n",
      "watertown has 0.03% of the total rows\n",
      "west roxbury has 0.14% of the total rows\n"
     ]
    }
   ],
   "source": [
    "# Look at city, see if it adds any value\n",
    "\n",
    "for city, group in listings_df.groupby('city'):\n",
    "    print(\"%s has %.2f%% of the total rows\" %(city, group.shape[0] / listings_df.shape[0] * 100))\n",
    "\n",
    "# Around 95% of the values are some variant of Boston, the rest are actually neighborhoods, \n",
    "# as we can see from the neighborhood column. So drop this column.\n",
    "listings_df.drop('city', axis=1, inplace=True)"
   ]
  },
  {
   "cell_type": "code",
   "execution_count": 11,
   "metadata": {},
   "outputs": [],
   "source": [
    "def groupby_mode_fillna(df, col_to_fill, col_to_groupby):\n",
    "    \"\"\"\n",
    "    Function that imputes the mean for a column using a groupby on another column to find the mode\n",
    "    INPUT: DataFrame, column with na's to fill, column to groupby for finding modes\n",
    "    \"\"\"\n",
    "    modes = df.groupby(col_to_groupby)[col_to_fill].apply(lambda x: x.mode())\n",
    "    df[col_to_fill] = df[col_to_fill].fillna(df[col_to_groupby].apply(lambda x: modes[modes.index==(x, 0)]))\n",
    "    \n",
    "    return df"
   ]
  },
  {
   "cell_type": "markdown",
   "metadata": {},
   "source": [
    "### Neighbourhood and Zipcode"
   ]
  },
  {
   "cell_type": "code",
   "execution_count": 12,
   "metadata": {},
   "outputs": [
    {
     "name": "stdout",
     "output_type": "stream",
     "text": [
      "0.1514644351464435\n",
      "0.0\n"
     ]
    }
   ],
   "source": [
    "print(listings_df['neighbourhood'].isna().mean())\n",
    "print(listings_df['neighbourhood_cleansed'].isna().mean())\n",
    "\n",
    "# Neighbourhood and neighbourhood_cleansed are very similar columns, but cleansed has no nas\n",
    "# Drop neighbourhood to avoid instability\n",
    "\n",
    "listings_df.drop('neighbourhood', axis=1, inplace=True)"
   ]
  },
  {
   "cell_type": "code",
   "execution_count": 13,
   "metadata": {},
   "outputs": [
    {
     "name": "stdout",
     "output_type": "stream",
     "text": [
      "allston has 0.77% of its zipcode values missing with 260 members\n",
      "02134         222\n",
      "02215          10\n",
      "02139           6\n",
      "02138           6\n",
      "02135           5\n",
      "02446           4\n",
      "02163           3\n",
      "NaN             2\n",
      "02114           1\n",
      "02134 1704      1\n",
      "Name: zipcode, dtype: int64\n",
      "back bay has 0.99% of its zipcode values missing with 302 members\n",
      "02116    203\n",
      "02115     84\n",
      "02215      8\n",
      "NaN        3\n",
      "02118      2\n",
      "02114      1\n",
      "02142      1\n",
      "Name: zipcode, dtype: int64\n",
      "bay village has 0.00% of its zipcode values missing with 24 members\n",
      "02116    24\n",
      "Name: zipcode, dtype: int64\n",
      "beacon hill has 0.00% of its zipcode values missing with 194 members\n",
      "02114    144\n",
      "02108     43\n",
      "02116      3\n",
      "02111      1\n",
      "02118      1\n",
      "02113      1\n",
      "02126      1\n",
      "Name: zipcode, dtype: int64\n",
      "brighton has 1.08% of its zipcode values missing with 185 members\n",
      "02135    167\n",
      "02134     10\n",
      "02445      3\n",
      "NaN        2\n",
      "02111      1\n",
      "02446      1\n",
      "02115      1\n",
      "Name: zipcode, dtype: int64\n",
      "charlestown has 0.00% of its zipcode values missing with 111 members\n",
      "02129    90\n",
      "02145    12\n",
      "02143     7\n",
      "02141     2\n",
      "Name: zipcode, dtype: int64\n",
      "chinatown has 0.00% of its zipcode values missing with 71 members\n",
      "02111    58\n",
      "02116    13\n",
      "Name: zipcode, dtype: int64\n",
      "dorchester has 1.49% of its zipcode values missing with 269 members\n",
      "02125    122\n",
      "02124     77\n",
      "02122     43\n",
      "02121     20\n",
      "NaN        4\n",
      "02126      1\n",
      "02119      1\n",
      "02169      1\n",
      "Name: zipcode, dtype: int64\n",
      "downtown has 1.16% of its zipcode values missing with 172 members\n",
      "02116          44\n",
      "02114          34\n",
      "02111          34\n",
      "02108          26\n",
      "02109          21\n",
      "02110           8\n",
      "NaN             2\n",
      "02122           1\n",
      "02108 02111     1\n",
      "02472           1\n",
      "Name: zipcode, dtype: int64\n",
      "east boston has 2.67% of its zipcode values missing with 150 members\n",
      "02128    146\n",
      "NaN        4\n",
      "Name: zipcode, dtype: int64\n",
      "fenway has 1.03% of its zipcode values missing with 290 members\n",
      "02215    213\n",
      "02115     73\n",
      "NaN        3\n",
      "02446      1\n",
      "Name: zipcode, dtype: int64\n",
      "hyde park has 0.00% of its zipcode values missing with 31 members\n",
      "02136    29\n",
      "02126     1\n",
      "02131     1\n",
      "Name: zipcode, dtype: int64\n",
      "jamaica plain has 0.87% of its zipcode values missing with 343 members\n",
      "02130    319\n",
      "02119     13\n",
      "02131      7\n",
      "NaN        3\n",
      "02120      1\n",
      "Name: zipcode, dtype: int64\n",
      "leather district has 0.00% of its zipcode values missing with 5 members\n",
      "02111    5\n",
      "Name: zipcode, dtype: int64\n",
      "longwood medical area has 22.22% of its zipcode values missing with 9 members\n",
      "02215    5\n",
      "02446    2\n",
      "NaN      2\n",
      "Name: zipcode, dtype: int64\n",
      "mattapan has 0.00% of its zipcode values missing with 24 members\n",
      "02126    21\n",
      "02124     2\n",
      "02186     1\n",
      "Name: zipcode, dtype: int64\n",
      "mission hill has 0.81% of its zipcode values missing with 124 members\n",
      "02120    99\n",
      "02130    11\n",
      "02115    10\n",
      "02445     2\n",
      "02119     1\n",
      "NaN       1\n",
      "Name: zipcode, dtype: int64\n",
      "north end has 2.10% of its zipcode values missing with 143 members\n",
      "02113    100\n",
      "02109     30\n",
      "02110      5\n",
      "02108      3\n",
      "NaN        3\n",
      "02114      2\n",
      "Name: zipcode, dtype: int64\n",
      "roslindale has 1.79% of its zipcode values missing with 56 members\n",
      "02131    55\n",
      "NaN       1\n",
      "Name: zipcode, dtype: int64\n",
      "roxbury has 0.69% of its zipcode values missing with 144 members\n",
      "02119    84\n",
      "02118    26\n",
      "02120    15\n",
      "02121     9\n",
      "02125     7\n",
      "02124     1\n",
      "02115     1\n",
      "NaN       1\n",
      "Name: zipcode, dtype: int64\n",
      "south boston has 0.57% of its zipcode values missing with 174 members\n",
      "02127    172\n",
      "02210      1\n",
      "NaN        1\n",
      "Name: zipcode, dtype: int64\n",
      "south boston waterfront has 2.41% of its zipcode values missing with 83 members\n",
      "02210    73\n",
      "02127     8\n",
      "NaN       2\n",
      "Name: zipcode, dtype: int64\n",
      "south end has 1.23% of its zipcode values missing with 326 members\n",
      "02118    218\n",
      "02116    101\n",
      "NaN        4\n",
      "02218      1\n",
      "02210      1\n",
      "02119      1\n",
      "Name: zipcode, dtype: int64\n",
      "west end has 0.00% of its zipcode values missing with 49 members\n",
      "02114    48\n",
      "02141     1\n",
      "Name: zipcode, dtype: int64\n",
      "west roxbury has 0.00% of its zipcode values missing with 46 members\n",
      "02132    37\n",
      "02467     5\n",
      "02131     2\n",
      "02114     1\n",
      "02130     1\n",
      "Name: zipcode, dtype: int64\n"
     ]
    }
   ],
   "source": [
    "for neighbourhood, group in listings_df.groupby('neighbourhood_cleansed'):\n",
    "    print(\"%s has %.2f%% of its zipcode values missing with %s members\" %(neighbourhood, group['zipcode'].isna().mean() * 100, len(group)))\n",
    "    print(group['zipcode'].value_counts(dropna=False))\n",
    "    \n",
    "# A lot of neighbourhoods have one much more common zipcode, so we'll fillna with these\n",
    "\n",
    "listings_df = groupby_mode_fillna(listings_df, 'zipcode', 'neighbourhood_cleansed')"
   ]
  },
  {
   "cell_type": "markdown",
   "metadata": {},
   "source": [
    "### Beds, Bedrooms and Bathrooms"
   ]
  },
  {
   "cell_type": "code",
   "execution_count": 14,
   "metadata": {},
   "outputs": [
    {
     "data": {
      "image/png": "[encoded data removed]",
      "text/plain": [
       "<Figure size 432x288 with 1 Axes>"
      ]
     },
     "metadata": {
      "needs_background": "light"
     },
     "output_type": "display_data"
    },
    {
     "name": "stdout",
     "output_type": "stream",
     "text": [
      "0.3% NaN Bedrooms\n"
     ]
    },
    {
     "data": {
      "image/png": "[encoded data removed]",
      "text/plain": [
       "<Figure size 432x288 with 1 Axes>"
      ]
     },
     "metadata": {
      "needs_background": "light"
     },
     "output_type": "display_data"
    },
    {
     "name": "stdout",
     "output_type": "stream",
     "text": [
      "0.3% NaN Beds\n"
     ]
    },
    {
     "data": {
      "image/png": "[encoded data removed]",
      "text/plain": [
       "<Figure size 432x288 with 1 Axes>"
      ]
     },
     "metadata": {
      "needs_background": "light"
     },
     "output_type": "display_data"
    },
    {
     "name": "stdout",
     "output_type": "stream",
     "text": [
      "0.4% NaN Bathrooms\n"
     ]
    }
   ],
   "source": [
    "listings_df['bedrooms'].plot.hist()\n",
    "plt.title('Histogram of Bedrooms')\n",
    "plt.show()\n",
    "print(\"%.1f%% NaN Bedrooms\" %(listings_df['bedrooms'].isna().mean()*100))\n",
    "\n",
    "listings_df['beds'].plot.hist();\n",
    "plt.show()\n",
    "print(\"%.1f%% NaN Beds\" %(listings_df['beds'].isna().mean()*100))\n",
    "\n",
    "listings_df['bathrooms'].plot.hist()\n",
    "plt.show()\n",
    "print(\"%.1f%% NaN Bathrooms\" %(listings_df['bathrooms'].isna().mean()*100))\n",
    "\n",
    "# Simple mode fill seems like it works here, very few missing values anyway\n",
    "\n",
    "for c in ['bedrooms', 'bathrooms', 'beds']:\n",
    "    listings_df[c] = listings_df[c].fillna(listings_df[c].mode()[0])"
   ]
  },
  {
   "cell_type": "markdown",
   "metadata": {},
   "source": [
    "#### True/False Columns"
   ]
  },
  {
   "cell_type": "code",
   "execution_count": 15,
   "metadata": {},
   "outputs": [],
   "source": [
    "for c in [\n",
    "    'host_is_superhost', \n",
    "    'host_has_profile_pic', \n",
    "    'host_identity_verified', \n",
    "    'is_location_exact',\n",
    "    'instant_bookable',\n",
    "    'require_guest_phone_verification',\n",
    "    'require_guest_profile_picture'\n",
    "]:\n",
    "    listings_df[c] = listings_df[c].apply(lambda x: True if (x=='t' or x==True) else False)"
   ]
  },
  {
   "cell_type": "markdown",
   "metadata": {},
   "source": [
    "## Remove Cols that are too messy/are redundant/worthless"
   ]
  },
  {
   "cell_type": "code",
   "execution_count": 16,
   "metadata": {},
   "outputs": [
    {
     "name": "stdout",
     "output_type": "stream",
     "text": [
      "[0]\n"
     ]
    }
   ],
   "source": [
    "print((listings_df['host_listings_count'] - listings_df['host_total_listings_count']).unique())\n",
    "\n",
    "# These columns are the same, so drop one\n",
    "\n",
    "listings_df.drop('host_total_listings_count', axis=1, inplace=True)"
   ]
  },
  {
   "cell_type": "code",
   "execution_count": 17,
   "metadata": {},
   "outputs": [],
   "source": [
    "irrelevant_cols = [\n",
    "    'name', \n",
    "    'summary', \n",
    "    'description', \n",
    "    'host_name', \n",
    "    'host_since', \n",
    "    'host_location', \n",
    "    'host_neighbourhood', \n",
    "    'host_verifications',\n",
    "    'street',\n",
    "    'market',\n",
    "    'smart_location',\n",
    "    'calendar_updated',\n",
    "    'first_review',\n",
    "    'last_review',\n",
    "    'reviews_per_month'\n",
    "]\n",
    "\n",
    "listings_df.drop(irrelevant_cols, axis=1, inplace=True)"
   ]
  },
  {
   "cell_type": "markdown",
   "metadata": {},
   "source": [
    "## Remove potential leakage columns"
   ]
  },
  {
   "cell_type": "code",
   "execution_count": 18,
   "metadata": {},
   "outputs": [],
   "source": [
    "leakage_cols = [\n",
    "    'review_scores_rating', 'review_scores_accuracy',\n",
    "    'review_scores_cleanliness', 'review_scores_checkin',\n",
    "    'review_scores_communication', 'review_scores_location',\n",
    "    'review_scores_value', 'weekly_price', 'monthly_price',\n",
    "    'cleaning_fee'\n",
    "]\n",
    "\n",
    "listings_df.drop(leakage_cols, axis=1, inplace=True)"
   ]
  },
  {
   "cell_type": "markdown",
   "metadata": {},
   "source": [
    "## Turn \"rate\" columns into numeric rather than categorical"
   ]
  },
  {
   "cell_type": "code",
   "execution_count": 19,
   "metadata": {},
   "outputs": [],
   "source": [
    "for c in ['host_response_rate', 'host_acceptance_rate']:\n",
    "    listings_df[c] = listings_df[c].astype(float)"
   ]
  },
  {
   "cell_type": "markdown",
   "metadata": {},
   "source": [
    "## Square Feet"
   ]
  },
  {
   "cell_type": "code",
   "execution_count": 20,
   "metadata": {},
   "outputs": [],
   "source": [
    "# Square feet is missing 98.4% of its data, not going to be useful unfortunately\n",
    "\n",
    "listings_df.drop('square_feet', axis=1, inplace=True)"
   ]
  },
  {
   "cell_type": "markdown",
   "metadata": {},
   "source": [
    "## Host Response Time and Rate"
   ]
  },
  {
   "cell_type": "code",
   "execution_count": 21,
   "metadata": {},
   "outputs": [
    {
     "name": "stdout",
     "output_type": "stream",
     "text": [
      "0.0\n"
     ]
    }
   ],
   "source": [
    "# Response rate and time seem to be missing the same values\n",
    "\n",
    "print(listings_df.dropna(subset=['host_response_time'])['host_response_rate'].isna().mean())\n",
    "\n",
    "# Just drop NAs for these\n",
    "\n",
    "listings_df.dropna(subset=['host_response_time', 'host_response_rate'], inplace=True)"
   ]
  },
  {
   "cell_type": "markdown",
   "metadata": {},
   "source": [
    "## Property Type"
   ]
  },
  {
   "cell_type": "code",
   "execution_count": 22,
   "metadata": {},
   "outputs": [
    {
     "name": "stdout",
     "output_type": "stream",
     "text": [
      "2\n"
     ]
    }
   ],
   "source": [
    "print(listings_df['property_type'].isna().sum())\n",
    "# 2 values missing, just drop\n",
    "\n",
    "listings_df.dropna(subset=['property_type'], inplace=True)"
   ]
  },
  {
   "cell_type": "markdown",
   "metadata": {},
   "source": [
    "## Security Deposit"
   ]
  },
  {
   "cell_type": "code",
   "execution_count": 23,
   "metadata": {},
   "outputs": [
    {
     "name": "stdout",
     "output_type": "stream",
     "text": [
      "count    1233.000000\n",
      "mean      321.978913\n",
      "std       329.728373\n",
      "min        95.000000\n",
      "25%       100.000000\n",
      "50%       250.000000\n",
      "75%       446.000000\n",
      "max      4500.000000\n",
      "Name: security_deposit, dtype: float64\n"
     ]
    },
    {
     "data": {
      "image/png": "[encoded data removed]",
      "text/plain": [
       "<Figure size 432x288 with 1 Axes>"
      ]
     },
     "metadata": {
      "needs_background": "light"
     },
     "output_type": "display_data"
    }
   ],
   "source": [
    "listings_df['security_deposit'].plot.kde(xlim=(0, 500))\n",
    "print(listings_df['security_deposit'].describe())\n",
    "\n",
    "# No deposits are below $95; seems unlikely there would be $0 values, use the median to fillna.\n",
    "listings_df['security_deposit'].fillna(listings_df['security_deposit'].median(), inplace=True)"
   ]
  },
  {
   "cell_type": "code",
   "execution_count": 24,
   "metadata": {},
   "outputs": [],
   "source": [
    "listings_df.drop('neighbourhood_cleansed', axis=1, inplace=True)\n",
    "listings_df.drop(['latitude', 'longitude'],axis=1, inplace=True)\n",
    "listings_df.drop('maximum_nights', axis=1, inplace=True)"
   ]
  },
  {
   "cell_type": "code",
   "execution_count": 25,
   "metadata": {},
   "outputs": [],
   "source": [
    "for col in listings_df.columns:\n",
    "    if listings_df[col].isna().mean() > 0:\n",
    "        print(col, listings_df[col].isna().mean()*100)"
   ]
  },
  {
   "cell_type": "markdown",
   "metadata": {},
   "source": [
    "# Set up Dummy Columns"
   ]
  },
  {
   "cell_type": "code",
   "execution_count": 26,
   "metadata": {},
   "outputs": [],
   "source": [
    "# Change amenities column string into a clean tokenized list of strings, will use this later\n",
    "\n",
    "listings_df = clean_and_tokenize_amenities_column(listings_df)"
   ]
  },
  {
   "cell_type": "code",
   "execution_count": 27,
   "metadata": {
    "scrolled": false
   },
   "outputs": [],
   "source": [
    "# Reset index to allow for correct joining of columns\n",
    "\n",
    "listings_df.reset_index(inplace=True,drop=True)"
   ]
  },
  {
   "cell_type": "code",
   "execution_count": 28,
   "metadata": {},
   "outputs": [],
   "source": [
    "# Dummy Amenities column (special as the rows are lists)\n",
    "\n",
    "from sklearn.preprocessing import MultiLabelBinarizer\n",
    "\n",
    "mlb = MultiLabelBinarizer()\n",
    "X = mlb.fit_transform(listings_df['amenities'])\n",
    "\n",
    "listings_df = listings_df.join(pd.DataFrame(X, columns=['amenities_' + x for x in mlb.classes_])).drop('amenities', axis=1)"
   ]
  },
  {
   "cell_type": "code",
   "execution_count": 29,
   "metadata": {},
   "outputs": [],
   "source": [
    "cat_cols = listings_df.select_dtypes(['object', 'bool']).columns\n",
    "num_cols = listings_df.select_dtypes(['int', 'float']).columns"
   ]
  },
  {
   "cell_type": "code",
   "execution_count": 30,
   "metadata": {},
   "outputs": [],
   "source": [
    "def get_dummy_cols(df, cat_cols, dummy_na=False):\n",
    "    \"\"\"\n",
    "    INPUT:\n",
    "    df - pandas dataframe with categorical variables you want to dummy\n",
    "    cat_cols - list of strings that are associated with names of the categorical columns\n",
    "    dummy_na - Bool holding whether you want to dummy NA vals of categorical columns or not\n",
    "    OUTPUT:\n",
    "    df - dataframe with all non-categorical cols unchanged, and all categorical columns replaced with dummy cols\n",
    "    \"\"\"\n",
    "    \n",
    "    for col in cat_cols:\n",
    "        try:\n",
    "            # for each cat add dummy var, drop original column\n",
    "            df = pd.concat([df.drop(col, axis=1), pd.get_dummies(df[col], prefix=col, prefix_sep='_', drop_first=True, dummy_na=dummy_na)], axis=1)\n",
    "        except:\n",
    "            continue\n",
    "            \n",
    "    return df"
   ]
  },
  {
   "cell_type": "code",
   "execution_count": 31,
   "metadata": {},
   "outputs": [],
   "source": [
    "listings_df = get_dummy_cols(listings_df, cat_cols)"
   ]
  },
  {
   "cell_type": "code",
   "execution_count": 32,
   "metadata": {},
   "outputs": [
    {
     "data": {
      "text/html": [
       "<div>\n",
       "<style scoped>\n",
       "    .dataframe tbody tr th:only-of-type {\n",
       "        vertical-align: middle;\n",
       "    }\n",
       "\n",
       "    .dataframe tbody tr th {\n",
       "        vertical-align: top;\n",
       "    }\n",
       "\n",
       "    .dataframe thead th {\n",
       "        text-align: right;\n",
       "    }\n",
       "</style>\n",
       "<table border=\"1\" class=\"dataframe\">\n",
       "  <thead>\n",
       "    <tr style=\"text-align: right;\">\n",
       "      <th></th>\n",
       "      <th>id</th>\n",
       "      <th>host_id</th>\n",
       "      <th>host_response_rate</th>\n",
       "      <th>host_acceptance_rate</th>\n",
       "      <th>host_listings_count</th>\n",
       "      <th>accommodates</th>\n",
       "      <th>bathrooms</th>\n",
       "      <th>bedrooms</th>\n",
       "      <th>beds</th>\n",
       "      <th>price</th>\n",
       "      <th>...</th>\n",
       "      <th>bed_type_couch</th>\n",
       "      <th>bed_type_futon</th>\n",
       "      <th>bed_type_pull out sofa</th>\n",
       "      <th>bed_type_real bed</th>\n",
       "      <th>instant_bookable_True</th>\n",
       "      <th>cancellation_policy_moderate</th>\n",
       "      <th>cancellation_policy_strict</th>\n",
       "      <th>cancellation_policy_super_strict_30</th>\n",
       "      <th>require_guest_profile_picture_True</th>\n",
       "      <th>require_guest_phone_verification_True</th>\n",
       "    </tr>\n",
       "  </thead>\n",
       "  <tbody>\n",
       "    <tr>\n",
       "      <th>2953</th>\n",
       "      <td>10807</td>\n",
       "      <td>38440</td>\n",
       "      <td>100.0</td>\n",
       "      <td>42.0</td>\n",
       "      <td>4</td>\n",
       "      <td>2</td>\n",
       "      <td>1.0</td>\n",
       "      <td>1.0</td>\n",
       "      <td>1.0</td>\n",
       "      <td>80.0</td>\n",
       "      <td>...</td>\n",
       "      <td>0</td>\n",
       "      <td>0</td>\n",
       "      <td>0</td>\n",
       "      <td>1</td>\n",
       "      <td>0</td>\n",
       "      <td>0</td>\n",
       "      <td>1</td>\n",
       "      <td>0</td>\n",
       "      <td>0</td>\n",
       "      <td>0</td>\n",
       "    </tr>\n",
       "  </tbody>\n",
       "</table>\n",
       "<p>1 rows × 135 columns</p>\n",
       "</div>"
      ],
      "text/plain": [
       "         id  host_id  host_response_rate  host_acceptance_rate  \\\n",
       "2953  10807    38440               100.0                  42.0   \n",
       "\n",
       "      host_listings_count  accommodates  bathrooms  bedrooms  beds  price  \\\n",
       "2953                    4             2        1.0       1.0   1.0   80.0   \n",
       "\n",
       "      ...  bed_type_couch  bed_type_futon  bed_type_pull out sofa  \\\n",
       "2953  ...               0               0                       0   \n",
       "\n",
       "      bed_type_real bed  instant_bookable_True  cancellation_policy_moderate  \\\n",
       "2953                  1                      0                             0   \n",
       "\n",
       "      cancellation_policy_strict  cancellation_policy_super_strict_30  \\\n",
       "2953                           1                                    0   \n",
       "\n",
       "      require_guest_profile_picture_True  \\\n",
       "2953                                   0   \n",
       "\n",
       "      require_guest_phone_verification_True  \n",
       "2953                                      0  \n",
       "\n",
       "[1 rows x 135 columns]"
      ]
     },
     "execution_count": 32,
     "metadata": {},
     "output_type": "execute_result"
    }
   ],
   "source": [
    "listings_df.drop(index=listings_df[listings_df['zipcode_02134 1704']==0].index)"
   ]
  },
  {
   "cell_type": "code",
   "execution_count": 33,
   "metadata": {},
   "outputs": [
    {
     "data": {
      "text/plain": [
       "Int64Index([   0,    1,    2,    3,    4,    5,    6,    7,    8,    9,\n",
       "            ...\n",
       "            3102, 3103, 3104, 3105, 3106, 3107, 3108, 3109, 3110, 3111],\n",
       "           dtype='int64', length=3111)"
      ]
     },
     "execution_count": 33,
     "metadata": {},
     "output_type": "execute_result"
    }
   ],
   "source": [
    "listings_df[listings_df['zipcode_02134 1704']==0].index"
   ]
  },
  {
   "cell_type": "code",
   "execution_count": 34,
   "metadata": {},
   "outputs": [],
   "source": [
    "def find_one_hot_encoded_columns(df):\n",
    "    \"\"\"\n",
    "    INPUT: pandas dataframe to find one-hot encoded columns\n",
    "    OUTPUT: list of one-hot encoded columns\n",
    "    \"\"\"\n",
    "    one_zero_columns = []\n",
    "    for col in df.columns:\n",
    "        if list(df[col].unique()) == [0, 1] or list(df[col].unique()) == [1, 0]:\n",
    "            one_zero_columns.append(col)\n",
    "    return one_zero_columns\n",
    "\n",
    "def find_and_remove_over_homogenous_categories(df, one_hot_cols, limit=10):\n",
    "    \"\"\"\n",
    "    Removes columns (and rows with the under represented values) from dataframe\n",
    "    INPUT:\n",
    "    df - pandas dataframe to have values removed from\n",
    "    one_hot_cols - columns to check \n",
    "    limit - cutoff number of values for removal\n",
    "    OUTPUT:\n",
    "    df - pandas dataframe with rows/columns removed\n",
    "    \"\"\"\n",
    "    for col in one_hot_cols:\n",
    "        # Check if nearly all ones, so we'll remove zeroes\n",
    "        if (df[col].shape[0] - df[col].sum()) < limit: \n",
    "            rows_to_drop = df[df[col] == 0].index\n",
    "            df.drop(index=rows_to_drop, inplace=True)\n",
    "            df.drop(col, axis=1, inplace=True)\n",
    "        # And check if nearly all zeroes, so we'll remove ones\n",
    "        elif df[col].sum() < limit:\n",
    "            rows_to_drop = df[df[col] == 1].index\n",
    "            df.drop(index=rows_to_drop, inplace=True)\n",
    "            df.drop(col, axis=1, inplace=True)\n",
    "    df.reset_index(inplace=True, drop=True)\n",
    "    return df"
   ]
  },
  {
   "cell_type": "code",
   "execution_count": 35,
   "metadata": {},
   "outputs": [
    {
     "data": {
      "text/plain": [
       "(3112, 135)"
      ]
     },
     "execution_count": 35,
     "metadata": {},
     "output_type": "execute_result"
    }
   ],
   "source": [
    "listings_df.shape"
   ]
  },
  {
   "cell_type": "code",
   "execution_count": 36,
   "metadata": {},
   "outputs": [],
   "source": [
    "one_hot_cols = find_one_hot_encoded_columns(listings_df)\n",
    "listings_df = find_and_remove_over_homogenous_categories(listings_df, one_hot_cols)"
   ]
  },
  {
   "cell_type": "code",
   "execution_count": 37,
   "metadata": {},
   "outputs": [
    {
     "data": {
      "text/plain": [
       "(3033, 112)"
      ]
     },
     "execution_count": 37,
     "metadata": {},
     "output_type": "execute_result"
    }
   ],
   "source": [
    "listings_df.shape"
   ]
  },
  {
   "cell_type": "markdown",
   "metadata": {},
   "source": [
    "# Lin Regression Model"
   ]
  },
  {
   "cell_type": "markdown",
   "metadata": {},
   "source": [
    "## Split into train test sets"
   ]
  },
  {
   "cell_type": "code",
   "execution_count": 43,
   "metadata": {},
   "outputs": [],
   "source": [
    "from sklearn.model_selection import train_test_split"
   ]
  },
  {
   "cell_type": "code",
   "execution_count": 44,
   "metadata": {},
   "outputs": [],
   "source": [
    "X = listings_df.drop(['id', 'host_id', 'price'], axis=1)\n",
    "y = listings_df['price']\n",
    "\n",
    "outliers = y[y>800].index\n",
    "\n",
    "X = X[~X.index.isin(outliers)].reset_index(drop=True)\n",
    "y = y[~y.index.isin(outliers)].reset_index(drop=True)\n",
    "\n",
    "X_train, X_test, y_train, y_test = train_test_split(X, y, test_size=0.3, random_state=487)"
   ]
  },
  {
   "cell_type": "markdown",
   "metadata": {},
   "source": [
    "## Instantiate Linear Regression model"
   ]
  },
  {
   "cell_type": "code",
   "execution_count": 45,
   "metadata": {},
   "outputs": [],
   "source": [
    "from sklearn.linear_model import LinearRegression\n",
    "lm = LinearRegression(normalize=True)"
   ]
  },
  {
   "cell_type": "markdown",
   "metadata": {},
   "source": [
    "## Fit and Predict"
   ]
  },
  {
   "cell_type": "code",
   "execution_count": 46,
   "metadata": {},
   "outputs": [],
   "source": [
    "lm.fit(X_train, y_train)\n",
    "\n",
    "y_test_preds = lm.predict(X_test)\n",
    "y_train_preds = lm.predict(X_train)"
   ]
  },
  {
   "cell_type": "markdown",
   "metadata": {},
   "source": [
    "## Evaluate Model"
   ]
  },
  {
   "cell_type": "code",
   "execution_count": 47,
   "metadata": {},
   "outputs": [],
   "source": [
    "from sklearn.metrics import r2_score\n",
    "\n",
    "test_score = r2_score(y_test, y_test_preds)\n",
    "train_score = r2_score(y_train, y_train_preds)"
   ]
  },
  {
   "cell_type": "markdown",
   "metadata": {},
   "source": [
    "## Inspect Model"
   ]
  },
  {
   "cell_type": "code",
   "execution_count": 49,
   "metadata": {
    "scrolled": true
   },
   "outputs": [
    {
     "data": {
      "text/plain": [
       "<matplotlib.collections.PathCollection at 0x7fcfda971358>"
      ]
     },
     "execution_count": 49,
     "metadata": {},
     "output_type": "execute_result"
    },
    {
     "data": {
      "image/png": "[encoded data removed]",
      "text/plain": [
       "<Figure size 432x288 with 1 Axes>"
      ]
     },
     "metadata": {
      "needs_background": "light"
     },
     "output_type": "display_data"
    }
   ],
   "source": [
    "plt.scatter(y_test, y_test_preds)"
   ]
  },
  {
   "cell_type": "markdown",
   "metadata": {},
   "source": [
    "Model predicts well on lower values, but seems like the errors aren't distributed normally for larger; try applying log-transform"
   ]
  },
  {
   "cell_type": "code",
   "execution_count": 51,
   "metadata": {},
   "outputs": [],
   "source": [
    "def get_coef_weights(lin_model, X_train):\n",
    "    '''\n",
    "    INPUT:\n",
    "    lin_model - linear model fit on the data\n",
    "    X_train - the training data, so the column names can be used\n",
    "    OUTPUT:\n",
    "    coefs_df - a dataframe holding the coefficient, estimate, and abs(estimate)\n",
    "    \n",
    "    Provides a dataframe that can be used to understand the most influential coefficients\n",
    "    in a linear model by providing the coefficient estimates along with the name of the \n",
    "    variable attached to the coefficient.\n",
    "    '''\n",
    "    coefs_df = pd.DataFrame()\n",
    "    coefs_df['est_int'] = X_train.columns\n",
    "    coefs_df['coefs'] = lin_model.coef_\n",
    "    coefs_df['abs_coefs'] = np.abs(lin_model.coef_)\n",
    "    coefs_df = coefs_df.sort_values('abs_coefs', ascending=False)\n",
    "    return coefs_df"
   ]
  },
  {
   "cell_type": "code",
   "execution_count": 54,
   "metadata": {
    "scrolled": true
   },
   "outputs": [
    {
     "data": {
      "text/html": [
       "<div>\n",
       "<style scoped>\n",
       "    .dataframe tbody tr th:only-of-type {\n",
       "        vertical-align: middle;\n",
       "    }\n",
       "\n",
       "    .dataframe tbody tr th {\n",
       "        vertical-align: top;\n",
       "    }\n",
       "\n",
       "    .dataframe thead th {\n",
       "        text-align: right;\n",
       "    }\n",
       "</style>\n",
       "<table border=\"1\" class=\"dataframe\">\n",
       "  <thead>\n",
       "    <tr style=\"text-align: right;\">\n",
       "      <th></th>\n",
       "      <th>est_int</th>\n",
       "      <th>coefs</th>\n",
       "      <th>abs_coefs</th>\n",
       "    </tr>\n",
       "  </thead>\n",
       "  <tbody>\n",
       "    <tr>\n",
       "      <th>74</th>\n",
       "      <td>zipcode_02122</td>\n",
       "      <td>-108.470626</td>\n",
       "      <td>108.470626</td>\n",
       "    </tr>\n",
       "    <tr>\n",
       "      <th>83</th>\n",
       "      <td>zipcode_02132</td>\n",
       "      <td>-102.404569</td>\n",
       "      <td>102.404569</td>\n",
       "    </tr>\n",
       "    <tr>\n",
       "      <th>82</th>\n",
       "      <td>zipcode_02131</td>\n",
       "      <td>-98.358231</td>\n",
       "      <td>98.358231</td>\n",
       "    </tr>\n",
       "    <tr>\n",
       "      <th>86</th>\n",
       "      <td>zipcode_02136</td>\n",
       "      <td>-88.685781</td>\n",
       "      <td>88.685781</td>\n",
       "    </tr>\n",
       "    <tr>\n",
       "      <th>76</th>\n",
       "      <td>zipcode_02125</td>\n",
       "      <td>-88.167345</td>\n",
       "      <td>88.167345</td>\n",
       "    </tr>\n",
       "    <tr>\n",
       "      <th>99</th>\n",
       "      <td>room_type_shared room</td>\n",
       "      <td>-82.708492</td>\n",
       "      <td>82.708492</td>\n",
       "    </tr>\n",
       "    <tr>\n",
       "      <th>75</th>\n",
       "      <td>zipcode_02124</td>\n",
       "      <td>-81.018083</td>\n",
       "      <td>81.018083</td>\n",
       "    </tr>\n",
       "    <tr>\n",
       "      <th>77</th>\n",
       "      <td>zipcode_02126</td>\n",
       "      <td>-79.167836</td>\n",
       "      <td>79.167836</td>\n",
       "    </tr>\n",
       "    <tr>\n",
       "      <th>79</th>\n",
       "      <td>zipcode_02128</td>\n",
       "      <td>-71.824860</td>\n",
       "      <td>71.824860</td>\n",
       "    </tr>\n",
       "    <tr>\n",
       "      <th>85</th>\n",
       "      <td>zipcode_02135</td>\n",
       "      <td>-68.703759</td>\n",
       "      <td>68.703759</td>\n",
       "    </tr>\n",
       "    <tr>\n",
       "      <th>84</th>\n",
       "      <td>zipcode_02134</td>\n",
       "      <td>-67.332683</td>\n",
       "      <td>67.332683</td>\n",
       "    </tr>\n",
       "    <tr>\n",
       "      <th>81</th>\n",
       "      <td>zipcode_02130</td>\n",
       "      <td>-67.250033</td>\n",
       "      <td>67.250033</td>\n",
       "    </tr>\n",
       "    <tr>\n",
       "      <th>87</th>\n",
       "      <td>zipcode_02145</td>\n",
       "      <td>-63.042519</td>\n",
       "      <td>63.042519</td>\n",
       "    </tr>\n",
       "    <tr>\n",
       "      <th>71</th>\n",
       "      <td>zipcode_02119</td>\n",
       "      <td>-61.810936</td>\n",
       "      <td>61.810936</td>\n",
       "    </tr>\n",
       "    <tr>\n",
       "      <th>98</th>\n",
       "      <td>room_type_private room</td>\n",
       "      <td>-60.540969</td>\n",
       "      <td>60.540969</td>\n",
       "    </tr>\n",
       "    <tr>\n",
       "      <th>106</th>\n",
       "      <td>cancellation_policy_super_strict_30</td>\n",
       "      <td>58.597929</td>\n",
       "      <td>58.597929</td>\n",
       "    </tr>\n",
       "    <tr>\n",
       "      <th>73</th>\n",
       "      <td>zipcode_02121</td>\n",
       "      <td>-58.320524</td>\n",
       "      <td>58.320524</td>\n",
       "    </tr>\n",
       "    <tr>\n",
       "      <th>72</th>\n",
       "      <td>zipcode_02120</td>\n",
       "      <td>-52.470468</td>\n",
       "      <td>52.470468</td>\n",
       "    </tr>\n",
       "    <tr>\n",
       "      <th>45</th>\n",
       "      <td>amenities_other pet(s)</td>\n",
       "      <td>-51.222355</td>\n",
       "      <td>51.222355</td>\n",
       "    </tr>\n",
       "    <tr>\n",
       "      <th>78</th>\n",
       "      <td>zipcode_02127</td>\n",
       "      <td>-46.009107</td>\n",
       "      <td>46.009107</td>\n",
       "    </tr>\n",
       "    <tr>\n",
       "      <th>96</th>\n",
       "      <td>property_type_other</td>\n",
       "      <td>-44.664954</td>\n",
       "      <td>44.664954</td>\n",
       "    </tr>\n",
       "    <tr>\n",
       "      <th>5</th>\n",
       "      <td>bedrooms</td>\n",
       "      <td>41.299707</td>\n",
       "      <td>41.299707</td>\n",
       "    </tr>\n",
       "    <tr>\n",
       "      <th>64</th>\n",
       "      <td>zipcode_02110</td>\n",
       "      <td>34.428966</td>\n",
       "      <td>34.428966</td>\n",
       "    </tr>\n",
       "    <tr>\n",
       "      <th>108</th>\n",
       "      <td>require_guest_phone_verification_True</td>\n",
       "      <td>33.500772</td>\n",
       "      <td>33.500772</td>\n",
       "    </tr>\n",
       "    <tr>\n",
       "      <th>4</th>\n",
       "      <td>bathrooms</td>\n",
       "      <td>26.908819</td>\n",
       "      <td>26.908819</td>\n",
       "    </tr>\n",
       "    <tr>\n",
       "      <th>107</th>\n",
       "      <td>require_guest_profile_picture_True</td>\n",
       "      <td>-24.430376</td>\n",
       "      <td>24.430376</td>\n",
       "    </tr>\n",
       "    <tr>\n",
       "      <th>39</th>\n",
       "      <td>amenities_indoor fireplace</td>\n",
       "      <td>22.707194</td>\n",
       "      <td>22.707194</td>\n",
       "    </tr>\n",
       "    <tr>\n",
       "      <th>102</th>\n",
       "      <td>bed_type_real bed</td>\n",
       "      <td>21.800533</td>\n",
       "      <td>21.800533</td>\n",
       "    </tr>\n",
       "    <tr>\n",
       "      <th>92</th>\n",
       "      <td>property_type_boat</td>\n",
       "      <td>21.770142</td>\n",
       "      <td>21.770142</td>\n",
       "    </tr>\n",
       "    <tr>\n",
       "      <th>68</th>\n",
       "      <td>zipcode_02115</td>\n",
       "      <td>-20.371240</td>\n",
       "      <td>20.371240</td>\n",
       "    </tr>\n",
       "    <tr>\n",
       "      <th>...</th>\n",
       "      <td>...</td>\n",
       "      <td>...</td>\n",
       "      <td>...</td>\n",
       "    </tr>\n",
       "    <tr>\n",
       "      <th>49</th>\n",
       "      <td>amenities_safety card</td>\n",
       "      <td>-2.295060</td>\n",
       "      <td>2.295060</td>\n",
       "    </tr>\n",
       "    <tr>\n",
       "      <th>22</th>\n",
       "      <td>amenities_cable tv</td>\n",
       "      <td>2.251632</td>\n",
       "      <td>2.251632</td>\n",
       "    </tr>\n",
       "    <tr>\n",
       "      <th>44</th>\n",
       "      <td>amenities_lock on bedroom door</td>\n",
       "      <td>-1.981660</td>\n",
       "      <td>1.981660</td>\n",
       "    </tr>\n",
       "    <tr>\n",
       "      <th>6</th>\n",
       "      <td>beds</td>\n",
       "      <td>1.513147</td>\n",
       "      <td>1.513147</td>\n",
       "    </tr>\n",
       "    <tr>\n",
       "      <th>62</th>\n",
       "      <td>host_identity_verified_True</td>\n",
       "      <td>-1.386124</td>\n",
       "      <td>1.386124</td>\n",
       "    </tr>\n",
       "    <tr>\n",
       "      <th>31</th>\n",
       "      <td>amenities_fire extinguisher</td>\n",
       "      <td>-1.349871</td>\n",
       "      <td>1.349871</td>\n",
       "    </tr>\n",
       "    <tr>\n",
       "      <th>30</th>\n",
       "      <td>amenities_family kid friendly</td>\n",
       "      <td>1.344863</td>\n",
       "      <td>1.344863</td>\n",
       "    </tr>\n",
       "    <tr>\n",
       "      <th>21</th>\n",
       "      <td>amenities_buzzer wireless intercom</td>\n",
       "      <td>-1.299809</td>\n",
       "      <td>1.299809</td>\n",
       "    </tr>\n",
       "    <tr>\n",
       "      <th>56</th>\n",
       "      <td>amenities_wheelchair accessible</td>\n",
       "      <td>-1.221371</td>\n",
       "      <td>1.221371</td>\n",
       "    </tr>\n",
       "    <tr>\n",
       "      <th>12</th>\n",
       "      <td>availability_60</td>\n",
       "      <td>0.941265</td>\n",
       "      <td>0.941265</td>\n",
       "    </tr>\n",
       "    <tr>\n",
       "      <th>29</th>\n",
       "      <td>amenities_essentials</td>\n",
       "      <td>-0.706186</td>\n",
       "      <td>0.706186</td>\n",
       "    </tr>\n",
       "    <tr>\n",
       "      <th>41</th>\n",
       "      <td>amenities_iron</td>\n",
       "      <td>-0.689374</td>\n",
       "      <td>0.689374</td>\n",
       "    </tr>\n",
       "    <tr>\n",
       "      <th>16</th>\n",
       "      <td>calculated_host_listings_count</td>\n",
       "      <td>0.683458</td>\n",
       "      <td>0.683458</td>\n",
       "    </tr>\n",
       "    <tr>\n",
       "      <th>60</th>\n",
       "      <td>host_response_time_within an hour</td>\n",
       "      <td>0.595294</td>\n",
       "      <td>0.595294</td>\n",
       "    </tr>\n",
       "    <tr>\n",
       "      <th>10</th>\n",
       "      <td>minimum_nights</td>\n",
       "      <td>-0.542341</td>\n",
       "      <td>0.542341</td>\n",
       "    </tr>\n",
       "    <tr>\n",
       "      <th>52</th>\n",
       "      <td>amenities_smoking allowed</td>\n",
       "      <td>-0.308967</td>\n",
       "      <td>0.308967</td>\n",
       "    </tr>\n",
       "    <tr>\n",
       "      <th>32</th>\n",
       "      <td>amenities_first aid kit</td>\n",
       "      <td>-0.242473</td>\n",
       "      <td>0.242473</td>\n",
       "    </tr>\n",
       "    <tr>\n",
       "      <th>57</th>\n",
       "      <td>amenities_wireless internet</td>\n",
       "      <td>-0.205498</td>\n",
       "      <td>0.205498</td>\n",
       "    </tr>\n",
       "    <tr>\n",
       "      <th>11</th>\n",
       "      <td>availability_30</td>\n",
       "      <td>-0.189078</td>\n",
       "      <td>0.189078</td>\n",
       "    </tr>\n",
       "    <tr>\n",
       "      <th>2</th>\n",
       "      <td>host_listings_count</td>\n",
       "      <td>-0.187649</td>\n",
       "      <td>0.187649</td>\n",
       "    </tr>\n",
       "    <tr>\n",
       "      <th>13</th>\n",
       "      <td>availability_90</td>\n",
       "      <td>-0.176584</td>\n",
       "      <td>0.176584</td>\n",
       "    </tr>\n",
       "    <tr>\n",
       "      <th>1</th>\n",
       "      <td>host_acceptance_rate</td>\n",
       "      <td>0.176470</td>\n",
       "      <td>0.176470</td>\n",
       "    </tr>\n",
       "    <tr>\n",
       "      <th>15</th>\n",
       "      <td>number_of_reviews</td>\n",
       "      <td>-0.169270</td>\n",
       "      <td>0.169270</td>\n",
       "    </tr>\n",
       "    <tr>\n",
       "      <th>40</th>\n",
       "      <td>amenities_internet</td>\n",
       "      <td>0.162598</td>\n",
       "      <td>0.162598</td>\n",
       "    </tr>\n",
       "    <tr>\n",
       "      <th>104</th>\n",
       "      <td>cancellation_policy_moderate</td>\n",
       "      <td>0.098594</td>\n",
       "      <td>0.098594</td>\n",
       "    </tr>\n",
       "    <tr>\n",
       "      <th>9</th>\n",
       "      <td>extra_people</td>\n",
       "      <td>-0.053009</td>\n",
       "      <td>0.053009</td>\n",
       "    </tr>\n",
       "    <tr>\n",
       "      <th>0</th>\n",
       "      <td>host_response_rate</td>\n",
       "      <td>0.047788</td>\n",
       "      <td>0.047788</td>\n",
       "    </tr>\n",
       "    <tr>\n",
       "      <th>90</th>\n",
       "      <td>is_location_exact_True</td>\n",
       "      <td>0.030479</td>\n",
       "      <td>0.030479</td>\n",
       "    </tr>\n",
       "    <tr>\n",
       "      <th>7</th>\n",
       "      <td>security_deposit</td>\n",
       "      <td>0.025886</td>\n",
       "      <td>0.025886</td>\n",
       "    </tr>\n",
       "    <tr>\n",
       "      <th>14</th>\n",
       "      <td>availability_365</td>\n",
       "      <td>0.003016</td>\n",
       "      <td>0.003016</td>\n",
       "    </tr>\n",
       "  </tbody>\n",
       "</table>\n",
       "<p>109 rows × 3 columns</p>\n",
       "</div>"
      ],
      "text/plain": [
       "                                   est_int       coefs   abs_coefs\n",
       "74                           zipcode_02122 -108.470626  108.470626\n",
       "83                           zipcode_02132 -102.404569  102.404569\n",
       "82                           zipcode_02131  -98.358231   98.358231\n",
       "86                           zipcode_02136  -88.685781   88.685781\n",
       "76                           zipcode_02125  -88.167345   88.167345\n",
       "99                   room_type_shared room  -82.708492   82.708492\n",
       "75                           zipcode_02124  -81.018083   81.018083\n",
       "77                           zipcode_02126  -79.167836   79.167836\n",
       "79                           zipcode_02128  -71.824860   71.824860\n",
       "85                           zipcode_02135  -68.703759   68.703759\n",
       "84                           zipcode_02134  -67.332683   67.332683\n",
       "81                           zipcode_02130  -67.250033   67.250033\n",
       "87                           zipcode_02145  -63.042519   63.042519\n",
       "71                           zipcode_02119  -61.810936   61.810936\n",
       "98                  room_type_private room  -60.540969   60.540969\n",
       "106    cancellation_policy_super_strict_30   58.597929   58.597929\n",
       "73                           zipcode_02121  -58.320524   58.320524\n",
       "72                           zipcode_02120  -52.470468   52.470468\n",
       "45                  amenities_other pet(s)  -51.222355   51.222355\n",
       "78                           zipcode_02127  -46.009107   46.009107\n",
       "96                     property_type_other  -44.664954   44.664954\n",
       "5                                 bedrooms   41.299707   41.299707\n",
       "64                           zipcode_02110   34.428966   34.428966\n",
       "108  require_guest_phone_verification_True   33.500772   33.500772\n",
       "4                                bathrooms   26.908819   26.908819\n",
       "107     require_guest_profile_picture_True  -24.430376   24.430376\n",
       "39              amenities_indoor fireplace   22.707194   22.707194\n",
       "102                      bed_type_real bed   21.800533   21.800533\n",
       "92                      property_type_boat   21.770142   21.770142\n",
       "68                           zipcode_02115  -20.371240   20.371240\n",
       "..                                     ...         ...         ...\n",
       "49                   amenities_safety card   -2.295060    2.295060\n",
       "22                      amenities_cable tv    2.251632    2.251632\n",
       "44          amenities_lock on bedroom door   -1.981660    1.981660\n",
       "6                                     beds    1.513147    1.513147\n",
       "62             host_identity_verified_True   -1.386124    1.386124\n",
       "31             amenities_fire extinguisher   -1.349871    1.349871\n",
       "30           amenities_family kid friendly    1.344863    1.344863\n",
       "21      amenities_buzzer wireless intercom   -1.299809    1.299809\n",
       "56         amenities_wheelchair accessible   -1.221371    1.221371\n",
       "12                         availability_60    0.941265    0.941265\n",
       "29                    amenities_essentials   -0.706186    0.706186\n",
       "41                          amenities_iron   -0.689374    0.689374\n",
       "16          calculated_host_listings_count    0.683458    0.683458\n",
       "60       host_response_time_within an hour    0.595294    0.595294\n",
       "10                          minimum_nights   -0.542341    0.542341\n",
       "52               amenities_smoking allowed   -0.308967    0.308967\n",
       "32                 amenities_first aid kit   -0.242473    0.242473\n",
       "57             amenities_wireless internet   -0.205498    0.205498\n",
       "11                         availability_30   -0.189078    0.189078\n",
       "2                      host_listings_count   -0.187649    0.187649\n",
       "13                         availability_90   -0.176584    0.176584\n",
       "1                     host_acceptance_rate    0.176470    0.176470\n",
       "15                       number_of_reviews   -0.169270    0.169270\n",
       "40                      amenities_internet    0.162598    0.162598\n",
       "104           cancellation_policy_moderate    0.098594    0.098594\n",
       "9                             extra_people   -0.053009    0.053009\n",
       "0                       host_response_rate    0.047788    0.047788\n",
       "90                  is_location_exact_True    0.030479    0.030479\n",
       "7                         security_deposit    0.025886    0.025886\n",
       "14                        availability_365    0.003016    0.003016\n",
       "\n",
       "[109 rows x 3 columns]"
      ]
     },
     "execution_count": 54,
     "metadata": {},
     "output_type": "execute_result"
    }
   ],
   "source": [
    "coef_df = get_coef_weights(lm, X_train)\n",
    "\n",
    "coef_df"
   ]
  },
  {
   "cell_type": "markdown",
   "metadata": {},
   "source": [
    "## Log-Transform Data and re-Fit"
   ]
  },
  {
   "cell_type": "code",
   "execution_count": 558,
   "metadata": {},
   "outputs": [],
   "source": [
    "y = np.log(listings_df['price'])\n",
    "\n",
    "y_test_preds = lm.predict(X_test)\n",
    "y_test_preds = np.exp(lm.predict(X_test))\n",
    "y_train_preds = np.exp(lm.predict(X_train))\n",
    "\n",
    "y_test = np.exp(y_test)"
   ]
  },
  {
   "cell_type": "code",
   "execution_count": 559,
   "metadata": {},
   "outputs": [
    {
     "data": {
      "text/plain": [
       "0.6252995002288888"
      ]
     },
     "execution_count": 559,
     "metadata": {},
     "output_type": "execute_result"
    }
   ],
   "source": [
    "r2_score(y_test, y_test_preds)"
   ]
  },
  {
   "cell_type": "code",
   "execution_count": 560,
   "metadata": {},
   "outputs": [
    {
     "data": {
      "text/plain": [
       "<matplotlib.collections.PathCollection at 0x7f1a22f32128>"
      ]
     },
     "execution_count": 560,
     "metadata": {},
     "output_type": "execute_result"
    },
    {
     "data": {
      "image/png": "[encoded data removed]",
      "text/plain": [
       "<Figure size 432x288 with 1 Axes>"
      ]
     },
     "metadata": {
      "needs_background": "light"
     },
     "output_type": "display_data"
    }
   ],
   "source": [
    "plt.scatter(y_test, y_test_preds)"
   ]
  },
  {
   "cell_type": "markdown",
   "metadata": {},
   "source": [
    "# Using summary to predict review_scores_value"
   ]
  },
  {
   "cell_type": "code",
   "execution_count": 41,
   "metadata": {},
   "outputs": [],
   "source": [
    "from nltk.tokenize import RegexpTokenizer\n",
    "\n",
    "tokenizer = RegexpTokenizer(r'\\w+')\n",
    "\n",
    "# Keep NULL values, may not want to discard them\n",
    "listings_df['summary'].fillna('NULL', inplace=True) \n",
    "\n",
    "listings_df['summary_tokens'] = listings_df['summary'].apply(tokenizer.tokenize)"
   ]
  },
  {
   "cell_type": "code",
   "execution_count": 42,
   "metadata": {},
   "outputs": [],
   "source": [
    "summary_vocab = sorted(list(set(word for tokens in listings_df['summary_tokens'] for word in tokens)))"
   ]
  },
  {
   "cell_type": "code",
   "execution_count": 43,
   "metadata": {},
   "outputs": [],
   "source": [
    "from sklearn.linear_model import LinearRegression, LogisticRegression\n",
    "from sklearn.feature_extraction.text import CountVectorizer, TfidfVectorizer"
   ]
  },
  {
   "cell_type": "markdown",
   "metadata": {},
   "source": [
    "# Categorising Review of Value (with Logistic Regression)"
   ]
  },
  {
   "cell_type": "markdown",
   "metadata": {},
   "source": [
    "## Using CountVectorizer"
   ]
  },
  {
   "cell_type": "code",
   "execution_count": 44,
   "metadata": {},
   "outputs": [],
   "source": [
    "def count_vec(data): \n",
    "    count_vectorizer = CountVectorizer()\n",
    "    emb = count_vectorizer.fit_transform(data)\n",
    "    \n",
    "    return emb, count_vectorizer"
   ]
  },
  {
   "cell_type": "markdown",
   "metadata": {},
   "source": [
    "### Splitting into train and test"
   ]
  },
  {
   "cell_type": "code",
   "execution_count": 45,
   "metadata": {},
   "outputs": [],
   "source": [
    "list_corpus = listings_df.dropna(subset=['review_scores_value'])['summary'].to_list()\n",
    "list_values = listings_df.dropna(subset=['review_scores_value'])['review_scores_value'].to_list()\n",
    "\n",
    "X_train, X_test, y_train, y_test = train_test_split(list_corpus, list_values, test_size=0.2, random_state=42)\n",
    "\n",
    "X_train_counts, count_vectorizer = count_vec(X_train)\n",
    "X_test_counts = count_vectorizer.transform(X_test)"
   ]
  },
  {
   "cell_type": "markdown",
   "metadata": {},
   "source": [
    "### Fit and Predict"
   ]
  },
  {
   "cell_type": "code",
   "execution_count": 46,
   "metadata": {},
   "outputs": [],
   "source": [
    "clf = LogisticRegression(C=30, class_weight='balanced', solver='newton-cg', \n",
    "                              multi_class='multinomial', n_jobs=-1, random_state=42)\n",
    "clf.fit(X_train_counts, y_train)\n",
    "\n",
    "y_predicted_counts = clf.predict(X_test_counts)"
   ]
  },
  {
   "cell_type": "markdown",
   "metadata": {},
   "source": [
    "### Evaluation"
   ]
  },
  {
   "cell_type": "code",
   "execution_count": 47,
   "metadata": {},
   "outputs": [],
   "source": [
    "from sklearn.metrics import accuracy_score, f1_score, precision_score, recall_score, classification_report\n",
    "\n",
    "def get_metrics(y_test, y_predicted):  \n",
    "    # true positives / (true positives+false positives)\n",
    "    precision = precision_score(y_test, y_predicted, pos_label=None,\n",
    "                                    average='weighted')             \n",
    "    # true positives / (true positives + false negatives)\n",
    "    recall = recall_score(y_test, y_predicted, pos_label=None,\n",
    "                              average='weighted')\n",
    "    \n",
    "    # harmonic mean of precision and recall\n",
    "    f1 = f1_score(y_test, y_predicted, pos_label=None, average='weighted')\n",
    "    \n",
    "    # true positives + true negatives/ total\n",
    "    accuracy = accuracy_score(y_test, y_predicted)\n",
    "    return accuracy, precision, recall, f1"
   ]
  },
  {
   "cell_type": "code",
   "execution_count": 48,
   "metadata": {},
   "outputs": [
    {
     "name": "stdout",
     "output_type": "stream",
     "text": [
      "accuracy = 0.383, precision = 0.416, recall = 0.383, f1 = 0.396\n"
     ]
    },
    {
     "name": "stderr",
     "output_type": "stream",
     "text": [
      "/home/tomc/miniconda3/envs/ds/lib/python3.7/site-packages/sklearn/metrics/classification.py:1437: UndefinedMetricWarning: Precision is ill-defined and being set to 0.0 in labels with no predicted samples.\n",
      "  'precision', 'predicted', average, warn_for)\n",
      "/home/tomc/miniconda3/envs/ds/lib/python3.7/site-packages/sklearn/metrics/classification.py:1439: UndefinedMetricWarning: Recall is ill-defined and being set to 0.0 in labels with no true samples.\n",
      "  'recall', 'true', average, warn_for)\n",
      "/home/tomc/miniconda3/envs/ds/lib/python3.7/site-packages/sklearn/metrics/classification.py:1437: UndefinedMetricWarning: F-score is ill-defined and being set to 0.0 in labels with no predicted samples.\n",
      "  'precision', 'predicted', average, warn_for)\n",
      "/home/tomc/miniconda3/envs/ds/lib/python3.7/site-packages/sklearn/metrics/classification.py:1439: UndefinedMetricWarning: F-score is ill-defined and being set to 0.0 in labels with no true samples.\n",
      "  'recall', 'true', average, warn_for)\n"
     ]
    }
   ],
   "source": [
    "accuracy, precision, recall, f1 = get_metrics(y_test, y_predicted_counts)\n",
    "print(\"accuracy = %.3f, precision = %.3f, recall = %.3f, f1 = %.3f\" % (accuracy, precision, recall, f1))"
   ]
  },
  {
   "cell_type": "markdown",
   "metadata": {},
   "source": [
    "### Inspection"
   ]
  },
  {
   "cell_type": "code",
   "execution_count": 51,
   "metadata": {},
   "outputs": [],
   "source": [
    "from sklearn.metrics import confusion_matrix\n",
    "\n",
    "def plot_confusion_matrix(cm, classes,\n",
    "                          normalize=False,\n",
    "                          title='Confusion matrix',\n",
    "                          cmap=plt.cm.winter):\n",
    "    if normalize:\n",
    "        cm = cm.astype('float') / cm.sum(axis=1)[:, np.newaxis]\n",
    "    plt.imshow(cm, interpolation='nearest', cmap=cmap)\n",
    "    plt.title(title, fontsize=30)\n",
    "    plt.colorbar()\n",
    "    tick_marks = np.arange(len(classes))\n",
    "    plt.xticks(tick_marks, classes, fontsize=20)\n",
    "    plt.yticks(tick_marks, classes, fontsize=20)\n",
    "    \n",
    "    fmt = '.2f' if normalize else 'd'\n",
    "    thresh = cm.max() / 2.\n",
    "\n",
    "    for i, j in itertools.product(range(cm.shape[0]), range(cm.shape[1])):\n",
    "        plt.text(j, i, format(cm[i, j], fmt), horizontalalignment=\"center\", \n",
    "                 color=\"white\" if cm[i, j] < thresh else \"black\", fontsize=20)\n",
    "    \n",
    "    plt.tight_layout()\n",
    "    plt.ylabel('True label', fontsize=30)\n",
    "    plt.xlabel('Predicted label', fontsize=30)\n",
    "\n",
    "    return plt"
   ]
  },
  {
   "cell_type": "code",
   "execution_count": 52,
   "metadata": {
    "scrolled": false
   },
   "outputs": [
    {
     "data": {
      "image/png": "[encoded data removed]",
      "text/plain": [
       "<Figure size 720x720 with 2 Axes>"
      ]
     },
     "metadata": {
      "needs_background": "light"
     },
     "output_type": "display_data"
    }
   ],
   "source": [
    "cm = confusion_matrix(y_test, y_predicted_counts)\n",
    "fig = plt.figure(figsize=(10,10))\n",
    "plot = plot_confusion_matrix(cm, classes=list(range(int(min(y_test)), int(max(y_test) + 1))), normalize=False)"
   ]
  },
  {
   "cell_type": "markdown",
   "metadata": {},
   "source": [
    "## Using TFIDF to help deal with noise"
   ]
  },
  {
   "cell_type": "code",
   "execution_count": 53,
   "metadata": {},
   "outputs": [],
   "source": [
    "def tfidf(data):\n",
    "    tfidf_vectorizer = TfidfVectorizer()\n",
    "\n",
    "    train = tfidf_vectorizer.fit_transform(data)\n",
    "\n",
    "    return train, tfidf_vectorizer\n",
    "\n",
    "X_train_tfidf, tfidf_vectorizer = tfidf(X_train)\n",
    "X_test_tfidf = tfidf_vectorizer.transform(X_test)"
   ]
  },
  {
   "cell_type": "code",
   "execution_count": 54,
   "metadata": {},
   "outputs": [],
   "source": [
    "clf_tfidf = LogisticRegression(C=30.0, class_weight='balanced', solver='newton-cg', \n",
    "                         multi_class='multinomial', n_jobs=-1, random_state=40)\n",
    "clf_tfidf.fit(X_train_tfidf, y_train)\n",
    "\n",
    "y_predicted_tfidf = clf_tfidf.predict(X_test_tfidf)"
   ]
  },
  {
   "cell_type": "code",
   "execution_count": 55,
   "metadata": {},
   "outputs": [
    {
     "name": "stdout",
     "output_type": "stream",
     "text": [
      "accuracy = 0.407, precision = 0.427, recall = 0.407, f1 = 0.415\n"
     ]
    }
   ],
   "source": [
    "accuracy_tfidf, precision_tfidf, recall_tfidf, f1_tfidf = get_metrics(y_test, y_predicted_tfidf)\n",
    "print(\"accuracy = %.3f, precision = %.3f, recall = %.3f, f1 = %.3f\" % (accuracy_tfidf, precision_tfidf, \n",
    "                                                                       recall_tfidf, f1_tfidf))"
   ]
  },
  {
   "cell_type": "code",
   "execution_count": 109,
   "metadata": {},
   "outputs": [
    {
     "data": {
      "text/plain": [
       "10.0    246\n",
       "9.0     227\n",
       "8.0      64\n",
       "7.0      11\n",
       "6.0       3\n",
       "4.0       2\n",
       "Name: 0, dtype: int64"
      ]
     },
     "execution_count": 109,
     "metadata": {},
     "output_type": "execute_result"
    }
   ],
   "source": [
    "pd.DataFrame(y_test)[0].value_counts()"
   ]
  },
  {
   "cell_type": "code",
   "execution_count": 59,
   "metadata": {},
   "outputs": [
    {
     "data": {
      "image/png": "[encoded data removed]",
      "text/plain": [
       "<Figure size 720x720 with 2 Axes>"
      ]
     },
     "metadata": {
      "needs_background": "light"
     },
     "output_type": "display_data"
    }
   ],
   "source": [
    "cm = confusion_matrix(y_test, y_predicted_tfidf)\n",
    "fig = plt.figure(figsize=(10,10))\n",
    "plot = plot_confusion_matrix(cm, classes=list(range(int(min(y_test)), int(max(y_test) + 1))), normalize=False)"
   ]
  }
 ],
 "metadata": {
  "kernelspec": {
   "display_name": "Python 3",
   "language": "python",
   "name": "python3"
  },
  "language_info": {
   "codemirror_mode": {
    "name": "ipython",
    "version": 3
   },
   "file_extension": ".py",
   "mimetype": "text/x-python",
   "name": "python",
   "nbconvert_exporter": "python",
   "pygments_lexer": "ipython3",
   "version": "3.7.3"
  }
 },
 "nbformat": 4,
 "nbformat_minor": 2
}
