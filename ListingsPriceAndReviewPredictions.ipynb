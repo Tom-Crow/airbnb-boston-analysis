{
 "cells": [
  {
   "cell_type": "code",
   "execution_count": 1,
   "metadata": {},
   "outputs": [],
   "source": [
    "import datetime as dt\n",
    "import itertools\n",
    "import matplotlib.pyplot as plt\n",
    "import numpy as np\n",
    "import pandas as pd\n",
    "import re\n",
    "import seaborn as sns\n",
    "from scipy import stats\n",
    "\n",
    "%matplotlib inline"
   ]
  },
  {
   "cell_type": "code",
   "execution_count": 2,
   "metadata": {
    "scrolled": true
   },
   "outputs": [
    {
     "data": {
      "text/html": [
       "<div>\n",
       "<style scoped>\n",
       "    .dataframe tbody tr th:only-of-type {\n",
       "        vertical-align: middle;\n",
       "    }\n",
       "\n",
       "    .dataframe tbody tr th {\n",
       "        vertical-align: top;\n",
       "    }\n",
       "\n",
       "    .dataframe thead th {\n",
       "        text-align: right;\n",
       "    }\n",
       "</style>\n",
       "<table border=\"1\" class=\"dataframe\">\n",
       "  <thead>\n",
       "    <tr style=\"text-align: right;\">\n",
       "      <th></th>\n",
       "      <th>id</th>\n",
       "      <th>listing_url</th>\n",
       "      <th>scrape_id</th>\n",
       "      <th>last_scraped</th>\n",
       "      <th>name</th>\n",
       "      <th>summary</th>\n",
       "      <th>space</th>\n",
       "      <th>description</th>\n",
       "      <th>experiences_offered</th>\n",
       "      <th>neighborhood_overview</th>\n",
       "      <th>...</th>\n",
       "      <th>review_scores_value</th>\n",
       "      <th>requires_license</th>\n",
       "      <th>license</th>\n",
       "      <th>jurisdiction_names</th>\n",
       "      <th>instant_bookable</th>\n",
       "      <th>cancellation_policy</th>\n",
       "      <th>require_guest_profile_picture</th>\n",
       "      <th>require_guest_phone_verification</th>\n",
       "      <th>calculated_host_listings_count</th>\n",
       "      <th>reviews_per_month</th>\n",
       "    </tr>\n",
       "  </thead>\n",
       "  <tbody>\n",
       "    <tr>\n",
       "      <th>0</th>\n",
       "      <td>12147973</td>\n",
       "      <td>https://www.airbnb.com/rooms/12147973</td>\n",
       "      <td>20160906204935</td>\n",
       "      <td>2016-09-07</td>\n",
       "      <td>Sunny Bungalow in the City</td>\n",
       "      <td>Cozy, sunny, family home.  Master bedroom high...</td>\n",
       "      <td>The house has an open and cozy feel at the sam...</td>\n",
       "      <td>Cozy, sunny, family home.  Master bedroom high...</td>\n",
       "      <td>none</td>\n",
       "      <td>Roslindale is quiet, convenient and friendly. ...</td>\n",
       "      <td>...</td>\n",
       "      <td>NaN</td>\n",
       "      <td>f</td>\n",
       "      <td>NaN</td>\n",
       "      <td>NaN</td>\n",
       "      <td>f</td>\n",
       "      <td>moderate</td>\n",
       "      <td>f</td>\n",
       "      <td>f</td>\n",
       "      <td>1</td>\n",
       "      <td>NaN</td>\n",
       "    </tr>\n",
       "    <tr>\n",
       "      <th>1</th>\n",
       "      <td>3075044</td>\n",
       "      <td>https://www.airbnb.com/rooms/3075044</td>\n",
       "      <td>20160906204935</td>\n",
       "      <td>2016-09-07</td>\n",
       "      <td>Charming room in pet friendly apt</td>\n",
       "      <td>Charming and quiet room in a second floor 1910...</td>\n",
       "      <td>Small but cozy and quite room with a full size...</td>\n",
       "      <td>Charming and quiet room in a second floor 1910...</td>\n",
       "      <td>none</td>\n",
       "      <td>The room is in Roslindale, a diverse and prima...</td>\n",
       "      <td>...</td>\n",
       "      <td>9.0</td>\n",
       "      <td>f</td>\n",
       "      <td>NaN</td>\n",
       "      <td>NaN</td>\n",
       "      <td>t</td>\n",
       "      <td>moderate</td>\n",
       "      <td>f</td>\n",
       "      <td>f</td>\n",
       "      <td>1</td>\n",
       "      <td>1.30</td>\n",
       "    </tr>\n",
       "    <tr>\n",
       "      <th>2</th>\n",
       "      <td>6976</td>\n",
       "      <td>https://www.airbnb.com/rooms/6976</td>\n",
       "      <td>20160906204935</td>\n",
       "      <td>2016-09-07</td>\n",
       "      <td>Mexican Folk Art Haven in Boston</td>\n",
       "      <td>Come stay with a friendly, middle-aged guy in ...</td>\n",
       "      <td>Come stay with a friendly, middle-aged guy in ...</td>\n",
       "      <td>Come stay with a friendly, middle-aged guy in ...</td>\n",
       "      <td>none</td>\n",
       "      <td>The LOCATION: Roslindale is a safe and diverse...</td>\n",
       "      <td>...</td>\n",
       "      <td>10.0</td>\n",
       "      <td>f</td>\n",
       "      <td>NaN</td>\n",
       "      <td>NaN</td>\n",
       "      <td>f</td>\n",
       "      <td>moderate</td>\n",
       "      <td>t</td>\n",
       "      <td>f</td>\n",
       "      <td>1</td>\n",
       "      <td>0.47</td>\n",
       "    </tr>\n",
       "    <tr>\n",
       "      <th>3</th>\n",
       "      <td>1436513</td>\n",
       "      <td>https://www.airbnb.com/rooms/1436513</td>\n",
       "      <td>20160906204935</td>\n",
       "      <td>2016-09-07</td>\n",
       "      <td>Spacious Sunny Bedroom Suite in Historic Home</td>\n",
       "      <td>Come experience the comforts of home away from...</td>\n",
       "      <td>Most places you find in Boston are small howev...</td>\n",
       "      <td>Come experience the comforts of home away from...</td>\n",
       "      <td>none</td>\n",
       "      <td>Roslindale is a lovely little neighborhood loc...</td>\n",
       "      <td>...</td>\n",
       "      <td>10.0</td>\n",
       "      <td>f</td>\n",
       "      <td>NaN</td>\n",
       "      <td>NaN</td>\n",
       "      <td>f</td>\n",
       "      <td>moderate</td>\n",
       "      <td>f</td>\n",
       "      <td>f</td>\n",
       "      <td>1</td>\n",
       "      <td>1.00</td>\n",
       "    </tr>\n",
       "    <tr>\n",
       "      <th>4</th>\n",
       "      <td>7651065</td>\n",
       "      <td>https://www.airbnb.com/rooms/7651065</td>\n",
       "      <td>20160906204935</td>\n",
       "      <td>2016-09-07</td>\n",
       "      <td>Come Home to Boston</td>\n",
       "      <td>My comfy, clean and relaxing home is one block...</td>\n",
       "      <td>Clean, attractive, private room, one block fro...</td>\n",
       "      <td>My comfy, clean and relaxing home is one block...</td>\n",
       "      <td>none</td>\n",
       "      <td>I love the proximity to downtown, the neighbor...</td>\n",
       "      <td>...</td>\n",
       "      <td>10.0</td>\n",
       "      <td>f</td>\n",
       "      <td>NaN</td>\n",
       "      <td>NaN</td>\n",
       "      <td>f</td>\n",
       "      <td>flexible</td>\n",
       "      <td>f</td>\n",
       "      <td>f</td>\n",
       "      <td>1</td>\n",
       "      <td>2.25</td>\n",
       "    </tr>\n",
       "  </tbody>\n",
       "</table>\n",
       "<p>5 rows × 95 columns</p>\n",
       "</div>"
      ],
      "text/plain": [
       "         id                            listing_url       scrape_id  \\\n",
       "0  12147973  https://www.airbnb.com/rooms/12147973  20160906204935   \n",
       "1   3075044   https://www.airbnb.com/rooms/3075044  20160906204935   \n",
       "2      6976      https://www.airbnb.com/rooms/6976  20160906204935   \n",
       "3   1436513   https://www.airbnb.com/rooms/1436513  20160906204935   \n",
       "4   7651065   https://www.airbnb.com/rooms/7651065  20160906204935   \n",
       "\n",
       "  last_scraped                                           name  \\\n",
       "0   2016-09-07                     Sunny Bungalow in the City   \n",
       "1   2016-09-07              Charming room in pet friendly apt   \n",
       "2   2016-09-07               Mexican Folk Art Haven in Boston   \n",
       "3   2016-09-07  Spacious Sunny Bedroom Suite in Historic Home   \n",
       "4   2016-09-07                            Come Home to Boston   \n",
       "\n",
       "                                             summary  \\\n",
       "0  Cozy, sunny, family home.  Master bedroom high...   \n",
       "1  Charming and quiet room in a second floor 1910...   \n",
       "2  Come stay with a friendly, middle-aged guy in ...   \n",
       "3  Come experience the comforts of home away from...   \n",
       "4  My comfy, clean and relaxing home is one block...   \n",
       "\n",
       "                                               space  \\\n",
       "0  The house has an open and cozy feel at the sam...   \n",
       "1  Small but cozy and quite room with a full size...   \n",
       "2  Come stay with a friendly, middle-aged guy in ...   \n",
       "3  Most places you find in Boston are small howev...   \n",
       "4  Clean, attractive, private room, one block fro...   \n",
       "\n",
       "                                         description experiences_offered  \\\n",
       "0  Cozy, sunny, family home.  Master bedroom high...                none   \n",
       "1  Charming and quiet room in a second floor 1910...                none   \n",
       "2  Come stay with a friendly, middle-aged guy in ...                none   \n",
       "3  Come experience the comforts of home away from...                none   \n",
       "4  My comfy, clean and relaxing home is one block...                none   \n",
       "\n",
       "                               neighborhood_overview  ... review_scores_value  \\\n",
       "0  Roslindale is quiet, convenient and friendly. ...  ...                 NaN   \n",
       "1  The room is in Roslindale, a diverse and prima...  ...                 9.0   \n",
       "2  The LOCATION: Roslindale is a safe and diverse...  ...                10.0   \n",
       "3  Roslindale is a lovely little neighborhood loc...  ...                10.0   \n",
       "4  I love the proximity to downtown, the neighbor...  ...                10.0   \n",
       "\n",
       "  requires_license license jurisdiction_names instant_bookable  \\\n",
       "0                f     NaN                NaN                f   \n",
       "1                f     NaN                NaN                t   \n",
       "2                f     NaN                NaN                f   \n",
       "3                f     NaN                NaN                f   \n",
       "4                f     NaN                NaN                f   \n",
       "\n",
       "  cancellation_policy require_guest_profile_picture  \\\n",
       "0            moderate                             f   \n",
       "1            moderate                             f   \n",
       "2            moderate                             t   \n",
       "3            moderate                             f   \n",
       "4            flexible                             f   \n",
       "\n",
       "  require_guest_phone_verification calculated_host_listings_count  \\\n",
       "0                                f                              1   \n",
       "1                                f                              1   \n",
       "2                                f                              1   \n",
       "3                                f                              1   \n",
       "4                                f                              1   \n",
       "\n",
       "   reviews_per_month  \n",
       "0                NaN  \n",
       "1               1.30  \n",
       "2               0.47  \n",
       "3               1.00  \n",
       "4               2.25  \n",
       "\n",
       "[5 rows x 95 columns]"
      ]
     },
     "execution_count": 2,
     "metadata": {},
     "output_type": "execute_result"
    }
   ],
   "source": [
    "listings_df = pd.read_csv('./listings.csv')\n",
    "listings_df.head()"
   ]
  },
  {
   "cell_type": "code",
   "execution_count": 3,
   "metadata": {},
   "outputs": [],
   "source": [
    "# Remove the columns that are just URLs, they won't help analysis or predictions\n",
    "\n",
    "url_cols = [x for x in listings_df.columns if 'url' in x]\n",
    "listings_df.drop(url_cols, axis=1, inplace=True)\n",
    "\n",
    "# Remove columns that are all of 1 value\n",
    "for col in listings_df.columns:\n",
    "    if len(listings_df[col].unique()) == 1:\n",
    "        listings_df.drop(col, axis=1, inplace=True)\n",
    "\n",
    "# Columns that have $ in every rows are monetary columns, turn these into floats\n",
    "for col in listings_df.select_dtypes('object').columns:\n",
    "    if listings_df[col].str.contains(\"\\$\").mean() == 1:\n",
    "        listings_df[col] = listings_df[col].replace('[\\$,]', '', regex=True).astype(float)"
   ]
  },
  {
   "cell_type": "code",
   "execution_count": 4,
   "metadata": {},
   "outputs": [],
   "source": [
    "cat_cols = listings_df.select_dtypes('object').columns\n",
    "num_cols = listings_df.select_dtypes(['float', 'int']).columns"
   ]
  },
  {
   "cell_type": "markdown",
   "metadata": {},
   "source": [
    "## Clean and standardize text columns"
   ]
  },
  {
   "cell_type": "code",
   "execution_count": 5,
   "metadata": {},
   "outputs": [],
   "source": [
    "def standardize_text(df, text_field):\n",
    "    \"\"\"\n",
    "    INPUT: DataFrame and text_field column\n",
    "    OUTPUT: DataFrame with text_field column standardized (e.g. caps turned to lower case, urls removed etc.)\n",
    "    \"\"\"\n",
    "    df[text_field] = df[text_field].str.replace(r\"http\\S+\", \"\", regex=True)\n",
    "    df[text_field] = df[text_field].str.replace(r\"http\", \"\", regex=True)\n",
    "    df[text_field] = df[text_field].str.replace(r\"@\\S+\", \"\", regex=True)\n",
    "    df[text_field] = df[text_field].str.replace(r\"[^A-Za-z0-9(),!?@\\'\\`\\\"\\_\\n]\", \" \", regex=True)\n",
    "    df[text_field] = df[text_field].str.replace(r\"@\", \"at\", regex=True)\n",
    "    df[text_field] = df[text_field].str.lower()\n",
    "    return df\n",
    "\n",
    "def remove_missing_amenities_from_list(amenities_list):\n",
    "    \"\"\"\n",
    "    INPUT: List of amenities strings\n",
    "    OUTPUT: List of amenities strings with unwanted strings (that have 'missing' in them) removed and excess spaces removed\n",
    "    \"\"\"\n",
    "    return [\" \".join(x.split()) for x in amenities_list if \"missing\" not in x]\n",
    "\n",
    "def clean_and_tokenize_amenities_column(df):\n",
    "    \"\"\"\n",
    "    INPUT: Listings DataFrame\n",
    "    OUTPUT: Listings DataFrame with amenities column cleaned and its elements tokenized\n",
    "    \"\"\"\n",
    "    df['amenities'] = df['amenities'].apply(lambda col: re.sub(\"[{}\\\"]\", \"\", col).lower().split(\",\"))\n",
    "    df['amenities'] = df['amenities'].apply(remove_missing_amenities_from_list)\n",
    "    return df"
   ]
  },
  {
   "cell_type": "code",
   "execution_count": 6,
   "metadata": {},
   "outputs": [],
   "source": [
    "# Standardize rest of the text-heavy columns\n",
    "\n",
    "for col in cat_cols:\n",
    "    listings_df = standardize_text(listings_df, col)"
   ]
  },
  {
   "cell_type": "markdown",
   "metadata": {},
   "source": [
    "# Deal with Missing/Misleading Data"
   ]
  },
  {
   "cell_type": "code",
   "execution_count": 7,
   "metadata": {},
   "outputs": [
    {
     "name": "stdout",
     "output_type": "stream",
     "text": [
      "summary has 3.99% values missing\n",
      "space has 29.48% values missing\n",
      "neighborhood_overview has 39.47% values missing\n",
      "notes has 55.09% values missing\n",
      "transit has 35.98% values missing\n",
      "access has 41.53% values missing\n",
      "interaction has 43.35% values missing\n",
      "house_rules has 33.25% values missing\n",
      "host_location has 0.31% values missing\n",
      "host_about has 36.51% values missing\n",
      "host_response_time has 13.14% values missing\n",
      "host_response_rate has 13.14% values missing\n",
      "host_acceptance_rate has 13.14% values missing\n",
      "host_neighbourhood has 9.46% values missing\n",
      "neighbourhood has 15.15% values missing\n",
      "city has 0.06% values missing\n",
      "zipcode has 1.06% values missing\n",
      "market has 0.39% values missing\n",
      "property_type has 0.08% values missing\n",
      "bathrooms has 0.39% values missing\n",
      "bedrooms has 0.28% values missing\n",
      "beds has 0.25% values missing\n",
      "square_feet has 98.44% values missing\n",
      "weekly_price has 75.12% values missing\n",
      "monthly_price has 75.23% values missing\n",
      "security_deposit has 62.57% values missing\n",
      "cleaning_fee has 30.88% values missing\n",
      "first_review has 21.09% values missing\n",
      "last_review has 21.09% values missing\n",
      "review_scores_rating has 22.68% values missing\n",
      "review_scores_accuracy has 22.96% values missing\n",
      "review_scores_cleanliness has 22.82% values missing\n",
      "review_scores_checkin has 22.87% values missing\n",
      "review_scores_communication has 22.82% values missing\n",
      "review_scores_location has 22.93% values missing\n",
      "review_scores_value has 22.90% values missing\n",
      "reviews_per_month has 21.09% values missing\n"
     ]
    }
   ],
   "source": [
    "# Check how much data is missing in each column\n",
    "\n",
    "for col in listings_df.columns:\n",
    "    if listings_df[col].isna().mean() > 0:\n",
    "        print(\"%s has %.2f%% values missing\" %(col, listings_df[col].isna().mean() * 100))"
   ]
  },
  {
   "cell_type": "markdown",
   "metadata": {},
   "source": [
    "### Amenities"
   ]
  },
  {
   "cell_type": "code",
   "execution_count": 8,
   "metadata": {},
   "outputs": [],
   "source": [
    "# todo remove the null amenities columns\n",
    "\n",
    "null_amenities_rows = listings_df[listings_df['amenities'].apply(lambda x: len(x)==2)].index"
   ]
  },
  {
   "cell_type": "code",
   "execution_count": 9,
   "metadata": {},
   "outputs": [
    {
     "data": {
      "text/html": [
       "<div>\n",
       "<style scoped>\n",
       "    .dataframe tbody tr th:only-of-type {\n",
       "        vertical-align: middle;\n",
       "    }\n",
       "\n",
       "    .dataframe tbody tr th {\n",
       "        vertical-align: top;\n",
       "    }\n",
       "\n",
       "    .dataframe thead th {\n",
       "        text-align: right;\n",
       "    }\n",
       "</style>\n",
       "<table border=\"1\" class=\"dataframe\">\n",
       "  <thead>\n",
       "    <tr style=\"text-align: right;\">\n",
       "      <th></th>\n",
       "      <th>id</th>\n",
       "      <th>name</th>\n",
       "      <th>summary</th>\n",
       "      <th>space</th>\n",
       "      <th>description</th>\n",
       "      <th>neighborhood_overview</th>\n",
       "      <th>notes</th>\n",
       "      <th>transit</th>\n",
       "      <th>access</th>\n",
       "      <th>interaction</th>\n",
       "      <th>...</th>\n",
       "      <th>review_scores_checkin</th>\n",
       "      <th>review_scores_communication</th>\n",
       "      <th>review_scores_location</th>\n",
       "      <th>review_scores_value</th>\n",
       "      <th>instant_bookable</th>\n",
       "      <th>cancellation_policy</th>\n",
       "      <th>require_guest_profile_picture</th>\n",
       "      <th>require_guest_phone_verification</th>\n",
       "      <th>calculated_host_listings_count</th>\n",
       "      <th>reviews_per_month</th>\n",
       "    </tr>\n",
       "  </thead>\n",
       "  <tbody>\n",
       "    <tr>\n",
       "      <th>636</th>\n",
       "      <td>8011545</td>\n",
       "      <td>private br in north end, boston</td>\n",
       "      <td>great bedroom in shared appartment located in ...</td>\n",
       "      <td>NaN</td>\n",
       "      <td>great bedroom in shared appartment located in ...</td>\n",
       "      <td>NaN</td>\n",
       "      <td>NaN</td>\n",
       "      <td>NaN</td>\n",
       "      <td>NaN</td>\n",
       "      <td>NaN</td>\n",
       "      <td>...</td>\n",
       "      <td>10.0</td>\n",
       "      <td>10.0</td>\n",
       "      <td>10.0</td>\n",
       "      <td>10.0</td>\n",
       "      <td>f</td>\n",
       "      <td>flexible</td>\n",
       "      <td>f</td>\n",
       "      <td>f</td>\n",
       "      <td>1</td>\n",
       "      <td>3.96</td>\n",
       "    </tr>\n",
       "  </tbody>\n",
       "</table>\n",
       "<p>1 rows × 75 columns</p>\n",
       "</div>"
      ],
      "text/plain": [
       "          id                             name  \\\n",
       "636  8011545  private br in north end, boston   \n",
       "\n",
       "                                               summary space  \\\n",
       "636  great bedroom in shared appartment located in ...   NaN   \n",
       "\n",
       "                                           description neighborhood_overview  \\\n",
       "636  great bedroom in shared appartment located in ...                   NaN   \n",
       "\n",
       "    notes transit access interaction  ... review_scores_checkin  \\\n",
       "636   NaN     NaN    NaN         NaN  ...                  10.0   \n",
       "\n",
       "     review_scores_communication review_scores_location review_scores_value  \\\n",
       "636                         10.0                   10.0                10.0   \n",
       "\n",
       "    instant_bookable cancellation_policy require_guest_profile_picture  \\\n",
       "636                f            flexible                             f   \n",
       "\n",
       "    require_guest_phone_verification calculated_host_listings_count  \\\n",
       "636                                f                              1   \n",
       "\n",
       "    reviews_per_month  \n",
       "636              3.96  \n",
       "\n",
       "[1 rows x 75 columns]"
      ]
     },
     "execution_count": 9,
     "metadata": {},
     "output_type": "execute_result"
    }
   ],
   "source": [
    "listings_df[listings_df['amenities'].apply(lambda x: len(x)==54)]"
   ]
  },
  {
   "cell_type": "markdown",
   "metadata": {},
   "source": [
    "### Text heavy columns with lots of NAs"
   ]
  },
  {
   "cell_type": "code",
   "execution_count": 10,
   "metadata": {},
   "outputs": [],
   "source": [
    "# Drop complex text-heavy columns with a lot of missing values (~30-50% missing)\n",
    "listings_df.drop(\n",
    "    [\n",
    "        'space', \n",
    "        'neighborhood_overview', \n",
    "        'notes', \n",
    "        'transit', \n",
    "        'access', \n",
    "        'interaction', \n",
    "        'house_rules',\n",
    "        'host_about',\n",
    "    ], axis=1, inplace=True\n",
    ")"
   ]
  },
  {
   "cell_type": "markdown",
   "metadata": {},
   "source": [
    "### City"
   ]
  },
  {
   "cell_type": "code",
   "execution_count": 11,
   "metadata": {
    "scrolled": true
   },
   "outputs": [
    {
     "name": "stdout",
     "output_type": "stream",
     "text": [
      "    has 0.03% of the total rows\n",
      "allston has 0.39% of the total rows\n",
      "boston has 94.34% of the total rows\n",
      "boston  has 0.03% of the total rows\n",
      "boston (charlestown) has 0.03% of the total rows\n",
      "boston (jamaica plain) has 0.03% of the total rows\n",
      "boston, massachusetts, us has 0.06% of the total rows\n",
      "brighton has 0.42% of the total rows\n",
      "brighton  has 0.03% of the total rows\n",
      "brookline has 0.50% of the total rows\n",
      "cambridge has 0.45% of the total rows\n",
      "charlestown has 0.42% of the total rows\n",
      "dorchester has 0.42% of the total rows\n",
      "dorchester, boston  has 0.03% of the total rows\n",
      "east boston has 0.08% of the total rows\n",
      "east boston  has 0.03% of the total rows\n",
      "hyde park has 0.06% of the total rows\n",
      "jamaica plain has 0.50% of the total rows\n",
      "jamaica plain  has 0.08% of the total rows\n",
      "jamaica plain (boston) has 0.03% of the total rows\n",
      "jamaica plain, boston has 0.06% of the total rows\n",
      "jamaica plain, ma has 0.03% of the total rows\n",
      "mattapan has 0.08% of the total rows\n",
      "milton has 0.03% of the total rows\n",
      "mission hill, boston has 0.03% of the total rows\n",
      "newton has 0.03% of the total rows\n",
      "roslindale has 0.17% of the total rows\n",
      "roslindale, boston has 0.03% of the total rows\n",
      "roxbury crossing has 0.78% of the total rows\n",
      "somerville has 0.53% of the total rows\n",
      "south boston has 0.06% of the total rows\n",
      "south end, boston has 0.03% of the total rows\n",
      "watertown has 0.03% of the total rows\n",
      "west roxbury has 0.14% of the total rows\n"
     ]
    }
   ],
   "source": [
    "# Look at city, see if it adds any value\n",
    "\n",
    "for city, group in listings_df.groupby('city'):\n",
    "    print(\"%s has %.2f%% of the total rows\" %(city, group.shape[0] / listings_df.shape[0] * 100))\n",
    "\n",
    "# Around 95% of the values are some variant of Boston, the rest are actually neighborhoods, \n",
    "# as we can see from the neighborhood column. So drop this column.\n",
    "listings_df.drop('city', axis=1, inplace=True)"
   ]
  },
  {
   "cell_type": "code",
   "execution_count": 12,
   "metadata": {},
   "outputs": [],
   "source": [
    "def groupby_mode_fillna(df, col_to_fill, col_to_groupby):\n",
    "    \"\"\"\n",
    "    Function that imputes the mean for a column using a groupby on another column to find the mode\n",
    "    INPUT: DataFrame, column with na's to fill, column to groupby for finding modes\n",
    "    \"\"\"\n",
    "    modes = df.groupby(col_to_groupby)[col_to_fill].apply(lambda x: x.mode())\n",
    "    df[col_to_fill] = df[col_to_fill].fillna(df[col_to_groupby].apply(lambda x: modes[modes.index==(x, 0)]))\n",
    "    \n",
    "    return df"
   ]
  },
  {
   "cell_type": "markdown",
   "metadata": {},
   "source": [
    "### Neighbourhood and Zipcode"
   ]
  },
  {
   "cell_type": "code",
   "execution_count": 13,
   "metadata": {},
   "outputs": [
    {
     "data": {
      "text/plain": [
       "0.1514644351464435"
      ]
     },
     "execution_count": 13,
     "metadata": {},
     "output_type": "execute_result"
    }
   ],
   "source": [
    "listings_df['neighbourhood'].isna().mean()"
   ]
  },
  {
   "cell_type": "code",
   "execution_count": 14,
   "metadata": {},
   "outputs": [
    {
     "name": "stdout",
     "output_type": "stream",
     "text": [
      "02108 has 8.33% of its neighbourhood values missing with 72 members\n",
      "beacon hill          49\n",
      "downtown crossing     9\n",
      "NaN                   6\n",
      "north end             3\n",
      "downtown              3\n",
      "west end              1\n",
      "government center     1\n",
      "Name: neighbourhood, dtype: int64\n",
      "02108 02111 has 0.00% of its neighbourhood values missing with 1 members\n",
      "downtown crossing    1\n",
      "Name: neighbourhood, dtype: int64\n",
      "02109 has 11.76% of its neighbourhood values missing with 51 members\n",
      "north end             28\n",
      "financial district    13\n",
      "NaN                    6\n",
      "downtown               4\n",
      "Name: neighbourhood, dtype: int64\n",
      "02110 has 7.69% of its neighbourhood values missing with 13 members\n",
      "north end            6\n",
      "downtown crossing    6\n",
      "NaN                  1\n",
      "Name: neighbourhood, dtype: int64\n",
      "02111 has 14.14% of its neighbourhood values missing with 99 members\n",
      "chinatown            55\n",
      "NaN                  14\n",
      "downtown crossing    10\n",
      "theater district     10\n",
      "leather district      8\n",
      "downtown              1\n",
      "hyde park             1\n",
      "Name: neighbourhood, dtype: int64\n",
      "02113 has 14.85% of its neighbourhood values missing with 101 members\n",
      "north end      85\n",
      "NaN            15\n",
      "beacon hill     1\n",
      "Name: neighbourhood, dtype: int64\n",
      "02114 has 14.72% of its neighbourhood values missing with 231 members\n",
      "beacon hill          123\n",
      "west end              67\n",
      "NaN                   34\n",
      "north end              2\n",
      "government center      2\n",
      "allston brighton       1\n",
      "west roxbury           1\n",
      "back bay               1\n",
      "Name: neighbourhood, dtype: int64\n",
      "02115 has 16.57% of its neighbourhood values missing with 169 members\n",
      "back bay            77\n",
      "fenway kenmore      54\n",
      "NaN                 28\n",
      "mission hill         8\n",
      "roxbury              1\n",
      "allston brighton     1\n",
      "Name: neighbourhood, dtype: int64\n",
      "02116 has 10.57% of its neighbourhood values missing with 388 members\n",
      "back bay            206\n",
      "south end            95\n",
      "NaN                  41\n",
      "theater district     23\n",
      "chinatown            23\n",
      "Name: neighbourhood, dtype: int64\n",
      "02118 has 11.74% of its neighbourhood values missing with 247 members\n",
      "south end    199\n",
      "NaN           29\n",
      "roxbury       19\n",
      "Name: neighbourhood, dtype: int64\n",
      "02119 has 16.00% of its neighbourhood values missing with 100 members\n",
      "roxbury          69\n",
      "NaN              16\n",
      "jamaica plain    13\n",
      "mission hill      1\n",
      "south end         1\n",
      "Name: neighbourhood, dtype: int64\n",
      "02120 has 15.65% of its neighbourhood values missing with 115 members\n",
      "mission hill    86\n",
      "NaN             18\n",
      "roxbury         11\n",
      "Name: neighbourhood, dtype: int64\n",
      "02121 has 24.14% of its neighbourhood values missing with 29 members\n",
      "roxbury       10\n",
      "dorchester     7\n",
      "NaN            7\n",
      "mattapan       5\n",
      "Name: neighbourhood, dtype: int64\n",
      "02122 has 15.91% of its neighbourhood values missing with 44 members\n",
      "dorchester    37\n",
      "NaN            7\n",
      "Name: neighbourhood, dtype: int64\n",
      "02124 has 42.50% of its neighbourhood values missing with 80 members\n",
      "dorchester    37\n",
      "NaN           34\n",
      "mattapan       9\n",
      "Name: neighbourhood, dtype: int64\n",
      "02125 has 13.18% of its neighbourhood values missing with 129 members\n",
      "dorchester    106\n",
      "NaN            17\n",
      "roxbury         6\n",
      "Name: neighbourhood, dtype: int64\n",
      "02126 has 33.33% of its neighbourhood values missing with 24 members\n",
      "dorchester     8\n",
      "NaN            8\n",
      "mattapan       6\n",
      "hyde park      1\n",
      "beacon hill    1\n",
      "Name: neighbourhood, dtype: int64\n",
      "02127 has 12.78% of its neighbourhood values missing with 180 members\n",
      "south boston    157\n",
      "NaN              23\n",
      "Name: neighbourhood, dtype: int64\n",
      "02128 has 19.18% of its neighbourhood values missing with 146 members\n",
      "east boston     117\n",
      "NaN              28\n",
      "south boston      1\n",
      "Name: neighbourhood, dtype: int64\n",
      "02129 has 13.33% of its neighbourhood values missing with 90 members\n",
      "charlestown    78\n",
      "NaN            12\n",
      "Name: neighbourhood, dtype: int64\n",
      "02130 has 8.16% of its neighbourhood values missing with 331 members\n",
      "jamaica plain    295\n",
      "NaN               27\n",
      "mission hill       8\n",
      "west roxbury       1\n",
      "Name: neighbourhood, dtype: int64\n",
      "02131 has 9.23% of its neighbourhood values missing with 65 members\n",
      "roslindale       50\n",
      "jamaica plain     6\n",
      "NaN               6\n",
      "west roxbury      2\n",
      "hyde park         1\n",
      "Name: neighbourhood, dtype: int64\n",
      "02132 has 16.22% of its neighbourhood values missing with 37 members\n",
      "west roxbury    31\n",
      "NaN              6\n",
      "Name: neighbourhood, dtype: int64\n",
      "02134 has 16.38% of its neighbourhood values missing with 232 members\n",
      "allston brighton    194\n",
      "NaN                  38\n",
      "Name: neighbourhood, dtype: int64\n",
      "02134 1704 has 0.00% of its neighbourhood values missing with 1 members\n",
      "allston brighton    1\n",
      "Name: neighbourhood, dtype: int64\n",
      "02135 has 10.47% of its neighbourhood values missing with 172 members\n",
      "allston brighton    154\n",
      "NaN                  18\n",
      "Name: neighbourhood, dtype: int64\n",
      "02136 has 24.14% of its neighbourhood values missing with 29 members\n",
      "hyde park    22\n",
      "NaN           7\n",
      "Name: neighbourhood, dtype: int64\n",
      "02138 has 50.00% of its neighbourhood values missing with 6 members\n",
      "NaN               3\n",
      "harvard square    2\n",
      "cambridge         1\n",
      "Name: neighbourhood, dtype: int64\n",
      "02139 has 16.67% of its neighbourhood values missing with 6 members\n",
      "cambridge    5\n",
      "NaN          1\n",
      "Name: neighbourhood, dtype: int64\n",
      "02141 has 33.33% of its neighbourhood values missing with 3 members\n",
      "cambridge     1\n",
      "somerville    1\n",
      "NaN           1\n",
      "Name: neighbourhood, dtype: int64\n",
      "02142 has 100.00% of its neighbourhood values missing with 1 members\n",
      "NaN    1\n",
      "Name: neighbourhood, dtype: int64\n",
      "02143 has 57.14% of its neighbourhood values missing with 7 members\n",
      "NaN           4\n",
      "somerville    3\n",
      "Name: neighbourhood, dtype: int64\n",
      "02145 has 16.67% of its neighbourhood values missing with 12 members\n",
      "somerville     9\n",
      "NaN            2\n",
      "charlestown    1\n",
      "Name: neighbourhood, dtype: int64\n",
      "02163 has 33.33% of its neighbourhood values missing with 3 members\n",
      "allston brighton    2\n",
      "NaN                 1\n",
      "Name: neighbourhood, dtype: int64\n",
      "02169 has 100.00% of its neighbourhood values missing with 1 members\n",
      "NaN    1\n",
      "Name: neighbourhood, dtype: int64\n",
      "02186 has 100.00% of its neighbourhood values missing with 1 members\n",
      "NaN    1\n",
      "Name: neighbourhood, dtype: int64\n",
      "02210 has 21.33% of its neighbourhood values missing with 75 members\n",
      "south boston    58\n",
      "NaN             16\n",
      "south end        1\n",
      "Name: neighbourhood, dtype: int64\n",
      "02215 has 11.44% of its neighbourhood values missing with 236 members\n",
      "fenway kenmore      193\n",
      "NaN                  27\n",
      "allston brighton      9\n",
      "back bay              7\n",
      "Name: neighbourhood, dtype: int64\n",
      "02218 has 100.00% of its neighbourhood values missing with 1 members\n",
      "NaN    1\n",
      "Name: neighbourhood, dtype: int64\n",
      "02445 has 0.00% of its neighbourhood values missing with 5 members\n",
      "brookline           4\n",
      "allston brighton    1\n",
      "Name: neighbourhood, dtype: int64\n",
      "02446 has 37.50% of its neighbourhood values missing with 8 members\n",
      "brookline         4\n",
      "NaN               3\n",
      "fenway kenmore    1\n",
      "Name: neighbourhood, dtype: int64\n",
      "02467 has 20.00% of its neighbourhood values missing with 5 members\n",
      "chestnut hill    4\n",
      "NaN              1\n",
      "Name: neighbourhood, dtype: int64\n",
      "02472 has 100.00% of its neighbourhood values missing with 1 members\n",
      "NaN    1\n",
      "Name: neighbourhood, dtype: int64\n",
      "02472 has 0.00% of its neighborhood values missing with 364 members\n",
      "02134         194\n",
      "02135         154\n",
      "02215           9\n",
      "02163           2\n",
      "02134 1704      1\n",
      "02445           1\n",
      "02114           1\n",
      "02115           1\n",
      "NaN             1\n",
      "Name: zipcode, dtype: int64\n",
      "02472 has 0.00% of its neighborhood values missing with 291 members\n",
      "02116    206\n",
      "02115     77\n",
      "02215      7\n",
      "02114      1\n",
      "Name: zipcode, dtype: int64\n",
      "02472 has 0.00% of its neighborhood values missing with 717 members\n",
      "02114    157\n",
      "02108     55\n",
      "02116     41\n",
      "02134     38\n",
      "02124     34\n",
      "NaN       33\n",
      "02118     29\n",
      "02128     28\n",
      "02115     28\n",
      "02215     27\n",
      "02130     27\n",
      "02127     23\n",
      "02120     18\n",
      "02135     18\n",
      "02125     17\n",
      "02210     16\n",
      "02119     16\n",
      "02113     16\n",
      "02111     14\n",
      "02129     12\n",
      "02126      9\n",
      "02122      7\n",
      "02121      7\n",
      "02136      7\n",
      "02132      6\n",
      "02131      6\n",
      "02109      6\n",
      "02143      4\n",
      "02446      3\n",
      "02138      3\n",
      "02145      2\n",
      "02169      1\n",
      "02472      1\n",
      "02142      1\n",
      "02141      1\n",
      "02218      1\n",
      "02163      1\n",
      "02139      1\n",
      "02186      1\n",
      "02110      1\n",
      "02467      1\n",
      "Name: zipcode, dtype: int64\n",
      "02472 has 0.00% of its neighborhood values missing with 8 members\n",
      "02446    4\n",
      "02445    4\n",
      "Name: zipcode, dtype: int64\n",
      "02472 has 0.00% of its neighborhood values missing with 7 members\n",
      "02139    5\n",
      "02138    1\n",
      "02141    1\n",
      "Name: zipcode, dtype: int64\n",
      "02472 has 0.00% of its neighborhood values missing with 79 members\n",
      "02129    78\n",
      "02145     1\n",
      "Name: zipcode, dtype: int64\n",
      "02472 has 0.00% of its neighborhood values missing with 4 members\n",
      "02467    4\n",
      "Name: zipcode, dtype: int64\n",
      "02472 has 0.00% of its neighborhood values missing with 78 members\n",
      "02111    55\n",
      "02116    23\n",
      "Name: zipcode, dtype: int64\n",
      "02472 has 0.00% of its neighborhood values missing with 195 members\n",
      "02125    106\n",
      "02122     37\n",
      "02124     37\n",
      "02126      8\n",
      "02121      7\n",
      "Name: zipcode, dtype: int64\n",
      "02472 has 0.00% of its neighborhood values missing with 8 members\n",
      "02109    4\n",
      "02108    3\n",
      "02111    1\n",
      "Name: zipcode, dtype: int64\n",
      "02472 has 0.00% of its neighborhood values missing with 26 members\n",
      "02111          10\n",
      "02108           9\n",
      "02110           6\n",
      "02108 02111     1\n",
      "Name: zipcode, dtype: int64\n",
      "02472 has 0.00% of its neighborhood values missing with 117 members\n",
      "02128    117\n",
      "Name: zipcode, dtype: int64\n",
      "02472 has 0.00% of its neighborhood values missing with 249 members\n",
      "02215    193\n",
      "02115     54\n",
      "02446      1\n",
      "NaN        1\n",
      "Name: zipcode, dtype: int64\n",
      "02472 has 0.00% of its neighborhood values missing with 13 members\n",
      "02109    13\n",
      "Name: zipcode, dtype: int64\n",
      "02472 has 0.00% of its neighborhood values missing with 3 members\n",
      "02114    2\n",
      "02108    1\n",
      "Name: zipcode, dtype: int64\n",
      "02472 has 0.00% of its neighborhood values missing with 2 members\n",
      "02138    2\n",
      "Name: zipcode, dtype: int64\n",
      "02472 has 0.00% of its neighborhood values missing with 25 members\n",
      "02136    22\n",
      "02126     1\n",
      "02131     1\n",
      "02111     1\n",
      "Name: zipcode, dtype: int64\n",
      "02472 has 0.00% of its neighborhood values missing with 314 members\n",
      "02130    295\n",
      "02119     13\n",
      "02131      6\n",
      "Name: zipcode, dtype: int64\n",
      "02472 has 0.00% of its neighborhood values missing with 8 members\n",
      "02111    8\n",
      "Name: zipcode, dtype: int64\n",
      "02472 has 0.00% of its neighborhood values missing with 20 members\n",
      "02124    9\n",
      "02126    6\n",
      "02121    5\n",
      "Name: zipcode, dtype: int64\n",
      "02472 has 0.00% of its neighborhood values missing with 103 members\n",
      "02120    86\n",
      "02130     8\n",
      "02115     8\n",
      "02119     1\n",
      "Name: zipcode, dtype: int64\n",
      "02472 has 0.00% of its neighborhood values missing with 125 members\n",
      "02113    85\n",
      "02109    28\n",
      "02110     6\n",
      "02108     3\n",
      "02114     2\n",
      "NaN       1\n",
      "Name: zipcode, dtype: int64\n",
      "02472 has 0.00% of its neighborhood values missing with 50 members\n",
      "02131    50\n",
      "Name: zipcode, dtype: int64\n",
      "02472 has 0.00% of its neighborhood values missing with 116 members\n",
      "02119    69\n",
      "02118    19\n",
      "02120    11\n",
      "02121    10\n",
      "02125     6\n",
      "02115     1\n",
      "Name: zipcode, dtype: int64\n",
      "02472 has 0.00% of its neighborhood values missing with 13 members\n",
      "02145    9\n",
      "02143    3\n",
      "02141    1\n",
      "Name: zipcode, dtype: int64\n",
      "02472 has 0.00% of its neighborhood values missing with 216 members\n",
      "02127    157\n",
      "02210     58\n",
      "02128      1\n",
      "Name: zipcode, dtype: int64\n",
      "02472 has 0.00% of its neighborhood values missing with 298 members\n",
      "02118    199\n",
      "02116     95\n",
      "NaN        2\n",
      "02210      1\n",
      "02119      1\n",
      "Name: zipcode, dtype: int64\n",
      "02472 has 0.00% of its neighborhood values missing with 33 members\n",
      "02116    23\n",
      "02111    10\n",
      "Name: zipcode, dtype: int64\n",
      "02472 has 0.00% of its neighborhood values missing with 68 members\n",
      "02114    67\n",
      "02108     1\n",
      "Name: zipcode, dtype: int64\n",
      "02472 has 0.00% of its neighborhood values missing with 35 members\n",
      "02132    31\n",
      "02131     2\n",
      "02130     1\n",
      "02114     1\n",
      "Name: zipcode, dtype: int64\n"
     ]
    }
   ],
   "source": [
    "for zipcode, group in listings_df.groupby('zipcode'):\n",
    "    print(\"%s has %.2f%% of its neighbourhood values missing with %s members\" %(zipcode, group['neighbourhood'].isna().mean() * 100, len(group)))\n",
    "    print(group['neighbourhood'].value_counts(dropna=False))\n",
    "    \n",
    "# A lot of zipcodes have one much more common neighbourhood, so we'll fillna with these\n",
    "\n",
    "listings_df = groupby_mode_fillna(listings_df, 'neighbourhood', 'zipcode')\n",
    "# modes = listings_df.groupby('zipcode')['neighbourhood'].apply(lambda x: x.mode())\n",
    "# listings_df['neighbourhood'] = listings_df['neighbourhood'].fillna(listings_df['zipcode'].apply(lambda x: modes[modes.index==(x, 0)]))\n",
    "\n",
    "\n",
    "for neighbourhood, group in listings_df.groupby('neighbourhood'):\n",
    "    print(\"%s has %.2f%% of its neighborhood values missing with %s members\" %(zipcode, group['neighbourhood'].isna().mean() * 100, len(group)))\n",
    "    print(group['zipcode'].value_counts(dropna=False))\n",
    "    \n",
    "# A lot of neighbourhoods have one much more common zipcode, so we'll fillna with these\n",
    "\n",
    "listings_df = groupby_mode_fillna(listings_df, 'zipcode', 'neighbourhood')"
   ]
  },
  {
   "cell_type": "code",
   "execution_count": 15,
   "metadata": {},
   "outputs": [
    {
     "name": "stdout",
     "output_type": "stream",
     "text": [
      "02472 has 0.00% of its neighborhood values missing with 364 members\n",
      "02134         195\n",
      "02135         154\n",
      "02215           9\n",
      "02163           2\n",
      "02134 1704      1\n",
      "02445           1\n",
      "02114           1\n",
      "02115           1\n",
      "Name: zipcode, dtype: int64\n",
      "02472 has 0.00% of its neighborhood values missing with 291 members\n",
      "02116    206\n",
      "02115     77\n",
      "02215      7\n",
      "02114      1\n",
      "Name: zipcode, dtype: int64\n",
      "02472 has 0.00% of its neighborhood values missing with 717 members\n",
      "02114    157\n",
      "02134     71\n",
      "02108     55\n",
      "02116     41\n",
      "02124     34\n",
      "02118     29\n",
      "02128     28\n",
      "02115     28\n",
      "02130     27\n",
      "02215     27\n",
      "02127     23\n",
      "02135     18\n",
      "02120     18\n",
      "02125     17\n",
      "02119     16\n",
      "02113     16\n",
      "02210     16\n",
      "02111     14\n",
      "02129     12\n",
      "02126      9\n",
      "02136      7\n",
      "02121      7\n",
      "02122      7\n",
      "02109      6\n",
      "02131      6\n",
      "02132      6\n",
      "02143      4\n",
      "02138      3\n",
      "02446      3\n",
      "02145      2\n",
      "02218      1\n",
      "02110      1\n",
      "02186      1\n",
      "02169      1\n",
      "02139      1\n",
      "02142      1\n",
      "02141      1\n",
      "02467      1\n",
      "02472      1\n",
      "02163      1\n",
      "Name: zipcode, dtype: int64\n",
      "02472 has 0.00% of its neighborhood values missing with 8 members\n",
      "02446    4\n",
      "02445    4\n",
      "Name: zipcode, dtype: int64\n",
      "02472 has 0.00% of its neighborhood values missing with 7 members\n",
      "02139    5\n",
      "02138    1\n",
      "02141    1\n",
      "Name: zipcode, dtype: int64\n",
      "02472 has 0.00% of its neighborhood values missing with 79 members\n",
      "02129    78\n",
      "02145     1\n",
      "Name: zipcode, dtype: int64\n",
      "02472 has 0.00% of its neighborhood values missing with 4 members\n",
      "02467    4\n",
      "Name: zipcode, dtype: int64\n",
      "02472 has 0.00% of its neighborhood values missing with 78 members\n",
      "02111    55\n",
      "02116    23\n",
      "Name: zipcode, dtype: int64\n",
      "02472 has 0.00% of its neighborhood values missing with 195 members\n",
      "02125    106\n",
      "02122     37\n",
      "02124     37\n",
      "02126      8\n",
      "02121      7\n",
      "Name: zipcode, dtype: int64\n",
      "02472 has 0.00% of its neighborhood values missing with 8 members\n",
      "02109    4\n",
      "02108    3\n",
      "02111    1\n",
      "Name: zipcode, dtype: int64\n",
      "02472 has 0.00% of its neighborhood values missing with 26 members\n",
      "02111          10\n",
      "02108           9\n",
      "02110           6\n",
      "02108 02111     1\n",
      "Name: zipcode, dtype: int64\n",
      "02472 has 0.00% of its neighborhood values missing with 117 members\n",
      "02128    117\n",
      "Name: zipcode, dtype: int64\n",
      "02472 has 0.00% of its neighborhood values missing with 249 members\n",
      "02215    193\n",
      "02115     54\n",
      "02446      1\n",
      "02134      1\n",
      "Name: zipcode, dtype: int64\n",
      "02472 has 0.00% of its neighborhood values missing with 13 members\n",
      "02109    13\n",
      "Name: zipcode, dtype: int64\n",
      "02472 has 0.00% of its neighborhood values missing with 3 members\n",
      "02114    2\n",
      "02108    1\n",
      "Name: zipcode, dtype: int64\n",
      "02472 has 0.00% of its neighborhood values missing with 2 members\n",
      "02138    2\n",
      "Name: zipcode, dtype: int64\n",
      "02472 has 0.00% of its neighborhood values missing with 25 members\n",
      "02136    22\n",
      "02126     1\n",
      "02131     1\n",
      "02111     1\n",
      "Name: zipcode, dtype: int64\n",
      "02472 has 0.00% of its neighborhood values missing with 314 members\n",
      "02130    295\n",
      "02119     13\n",
      "02131      6\n",
      "Name: zipcode, dtype: int64\n",
      "02472 has 0.00% of its neighborhood values missing with 8 members\n",
      "02111    8\n",
      "Name: zipcode, dtype: int64\n",
      "02472 has 0.00% of its neighborhood values missing with 20 members\n",
      "02124    9\n",
      "02126    6\n",
      "02121    5\n",
      "Name: zipcode, dtype: int64\n",
      "02472 has 0.00% of its neighborhood values missing with 103 members\n",
      "02120    86\n",
      "02130     8\n",
      "02115     8\n",
      "02119     1\n",
      "Name: zipcode, dtype: int64\n",
      "02472 has 0.00% of its neighborhood values missing with 125 members\n",
      "02113    85\n",
      "02109    28\n",
      "02110     6\n",
      "02108     3\n",
      "02114     2\n",
      "02134     1\n",
      "Name: zipcode, dtype: int64\n",
      "02472 has 0.00% of its neighborhood values missing with 50 members\n",
      "02131    50\n",
      "Name: zipcode, dtype: int64\n",
      "02472 has 0.00% of its neighborhood values missing with 116 members\n",
      "02119    69\n",
      "02118    19\n",
      "02120    11\n",
      "02121    10\n",
      "02125     6\n",
      "02115     1\n",
      "Name: zipcode, dtype: int64\n",
      "02472 has 0.00% of its neighborhood values missing with 13 members\n",
      "02145    9\n",
      "02143    3\n",
      "02141    1\n",
      "Name: zipcode, dtype: int64\n",
      "02472 has 0.00% of its neighborhood values missing with 216 members\n",
      "02127    157\n",
      "02210     58\n",
      "02128      1\n",
      "Name: zipcode, dtype: int64\n",
      "02472 has 0.00% of its neighborhood values missing with 298 members\n",
      "02118    199\n",
      "02116     95\n",
      "02134      2\n",
      "02210      1\n",
      "02119      1\n",
      "Name: zipcode, dtype: int64\n",
      "02472 has 0.00% of its neighborhood values missing with 33 members\n",
      "02116    23\n",
      "02111    10\n",
      "Name: zipcode, dtype: int64\n",
      "02472 has 0.00% of its neighborhood values missing with 68 members\n",
      "02114    67\n",
      "02108     1\n",
      "Name: zipcode, dtype: int64\n",
      "02472 has 0.00% of its neighborhood values missing with 35 members\n",
      "02132    31\n",
      "02131     2\n",
      "02130     1\n",
      "02114     1\n",
      "Name: zipcode, dtype: int64\n"
     ]
    }
   ],
   "source": [
    "for neighbourhood, group in listings_df.groupby('neighbourhood'):\n",
    "    print(\"%s has %.2f%% of its neighborhood values missing with %s members\" %(zipcode, group['neighbourhood'].isna().mean() * 100, len(group)))\n",
    "    print(group['zipcode'].value_counts(dropna=False))\n",
    "    \n",
    "# A lot of neighbourhoods have one much more common zipcode, so we'll fillna with these\n",
    "\n",
    "listings_df = groupby_mode_fillna(listings_df, 'zipcode', 'neighbourhood')"
   ]
  },
  {
   "cell_type": "markdown",
   "metadata": {},
   "source": [
    "### Beds, Bedrooms and Bathrooms"
   ]
  },
  {
   "cell_type": "code",
   "execution_count": 16,
   "metadata": {},
   "outputs": [
    {
     "data": {
      "image/png": "[encoded data removed]",
      "text/plain": [
       "<Figure size 432x288 with 1 Axes>"
      ]
     },
     "metadata": {
      "needs_background": "light"
     },
     "output_type": "display_data"
    },
    {
     "name": "stdout",
     "output_type": "stream",
     "text": [
      "0.3% NaN Bedrooms\n"
     ]
    },
    {
     "data": {
      "image/png": "[encoded data removed]",
      "text/plain": [
       "<Figure size 432x288 with 1 Axes>"
      ]
     },
     "metadata": {
      "needs_background": "light"
     },
     "output_type": "display_data"
    },
    {
     "name": "stdout",
     "output_type": "stream",
     "text": [
      "0.3% NaN Beds\n"
     ]
    },
    {
     "data": {
      "image/png": "[encoded data removed]",
      "text/plain": [
       "<Figure size 432x288 with 1 Axes>"
      ]
     },
     "metadata": {
      "needs_background": "light"
     },
     "output_type": "display_data"
    },
    {
     "name": "stdout",
     "output_type": "stream",
     "text": [
      "0.4% NaN Bathrooms\n"
     ]
    }
   ],
   "source": [
    "listings_df['bedrooms'].plot.hist()\n",
    "plt.title('Histogram of Bedrooms')\n",
    "plt.show()\n",
    "print(\"%.1f%% NaN Bedrooms\" %(listings_df['bedrooms'].isna().mean()*100))\n",
    "\n",
    "listings_df['beds'].plot.hist();\n",
    "plt.show()\n",
    "print(\"%.1f%% NaN Beds\" %(listings_df['beds'].isna().mean()*100))\n",
    "\n",
    "listings_df['bathrooms'].plot.hist()\n",
    "plt.show()\n",
    "print(\"%.1f%% NaN Bathrooms\" %(listings_df['bathrooms'].isna().mean()*100))\n",
    "\n",
    "# Simple mode fill seems like it works here, very few missing values anyway\n",
    "\n",
    "for c in ['bedrooms', 'bathrooms', 'beds']:\n",
    "    listings_df[c] = listings_df[c].fillna(listings_df[c].mode()[0])"
   ]
  },
  {
   "cell_type": "markdown",
   "metadata": {},
   "source": [
    "#### True/False Columns"
   ]
  },
  {
   "cell_type": "code",
   "execution_count": 17,
   "metadata": {},
   "outputs": [],
   "source": [
    "for c in [\n",
    "    'host_is_superhost', \n",
    "    'host_has_profile_pic', \n",
    "    'host_identity_verified', \n",
    "    'is_location_exact',\n",
    "    'instant_bookable',\n",
    "    'require_guest_phone_verification',\n",
    "    'require_guest_profile_picture'\n",
    "]:\n",
    "    listings_df[c] = listings_df[c].apply(lambda x: True if (x=='t' or x==True) else False)"
   ]
  },
  {
   "cell_type": "markdown",
   "metadata": {},
   "source": [
    "## Remove Cols that are too messy/are redundant/worthless"
   ]
  },
  {
   "cell_type": "code",
   "execution_count": 18,
   "metadata": {},
   "outputs": [],
   "source": [
    "irrelevant_cols = [\n",
    "    'name', \n",
    "    'summary', \n",
    "    'description', \n",
    "    'host_name', \n",
    "    'host_since', \n",
    "    'host_location', \n",
    "    'host_neighbourhood', \n",
    "    'host_verifications',\n",
    "    'street',\n",
    "    'market',\n",
    "    'smart_location',\n",
    "    'calendar_updated',\n",
    "    'first_review',\n",
    "    'last_review',\n",
    "    'reviews_per_month'\n",
    "]\n",
    "\n",
    "listings_df.drop(irrelevant_cols, axis=1, inplace=True)"
   ]
  },
  {
   "cell_type": "markdown",
   "metadata": {},
   "source": [
    "## Remove potential leakage columns"
   ]
  },
  {
   "cell_type": "code",
   "execution_count": 19,
   "metadata": {},
   "outputs": [],
   "source": [
    "leakage_cols = [\n",
    "    'review_scores_rating', 'review_scores_accuracy',\n",
    "    'review_scores_cleanliness', 'review_scores_checkin',\n",
    "    'review_scores_communication', 'review_scores_location',\n",
    "    'review_scores_value', 'weekly_price', 'monthly_price',\n",
    "    'cleaning_fee'\n",
    "]\n",
    "\n",
    "listings_df.drop(leakage_cols, axis=1, inplace=True)"
   ]
  },
  {
   "cell_type": "markdown",
   "metadata": {},
   "source": [
    "## Turn \"rate\" columns into numeric rather than categorical"
   ]
  },
  {
   "cell_type": "code",
   "execution_count": 20,
   "metadata": {},
   "outputs": [],
   "source": [
    "for c in ['host_response_rate', 'host_acceptance_rate']:\n",
    "    listings_df[c] = listings_df[c].astype(float)"
   ]
  },
  {
   "cell_type": "markdown",
   "metadata": {},
   "source": [
    "## Square Feet"
   ]
  },
  {
   "cell_type": "code",
   "execution_count": 21,
   "metadata": {},
   "outputs": [],
   "source": [
    "# Square feet is missing 98.4% of its data, not going to be useful unfortunately\n",
    "\n",
    "listings_df.drop('square_feet', axis=1, inplace=True)"
   ]
  },
  {
   "cell_type": "markdown",
   "metadata": {},
   "source": [
    "## Host Response Time and Rate"
   ]
  },
  {
   "cell_type": "code",
   "execution_count": 22,
   "metadata": {},
   "outputs": [
    {
     "name": "stdout",
     "output_type": "stream",
     "text": [
      "0.0\n"
     ]
    }
   ],
   "source": [
    "# Response rate and time seem to be missing the same values\n",
    "\n",
    "print(listings_df.dropna(subset=['host_response_time'])['host_response_rate'].isna().mean())\n",
    "\n",
    "# Just drop NAs for these\n",
    "\n",
    "listings_df.dropna(subset=['host_response_time', 'host_response_rate'], inplace=True)"
   ]
  },
  {
   "cell_type": "markdown",
   "metadata": {},
   "source": [
    "## Property Type"
   ]
  },
  {
   "cell_type": "code",
   "execution_count": 23,
   "metadata": {},
   "outputs": [
    {
     "name": "stdout",
     "output_type": "stream",
     "text": [
      "2\n"
     ]
    }
   ],
   "source": [
    "print(listings_df['property_type'].isna().sum())\n",
    "# 2 values missing, just drop\n",
    "\n",
    "listings_df.dropna(subset=['property_type'], inplace=True)"
   ]
  },
  {
   "cell_type": "markdown",
   "metadata": {},
   "source": [
    "## Security Deposit"
   ]
  },
  {
   "cell_type": "code",
   "execution_count": 24,
   "metadata": {},
   "outputs": [
    {
     "name": "stdout",
     "output_type": "stream",
     "text": [
      "count    1233.000000\n",
      "mean      321.978913\n",
      "std       329.728373\n",
      "min        95.000000\n",
      "25%       100.000000\n",
      "50%       250.000000\n",
      "75%       446.000000\n",
      "max      4500.000000\n",
      "Name: security_deposit, dtype: float64\n"
     ]
    },
    {
     "data": {
      "image/png": "[encoded data removed]",
      "text/plain": [
       "<Figure size 432x288 with 1 Axes>"
      ]
     },
     "metadata": {
      "needs_background": "light"
     },
     "output_type": "display_data"
    }
   ],
   "source": [
    "listings_df['security_deposit'].plot.kde(xlim=(0, 500))\n",
    "print(listings_df['security_deposit'].describe())\n",
    "\n",
    "# No deposits are below $95; seems unlikely there would be $0 values, use the median to fillna.\n",
    "listings_df['security_deposit'].fillna(listings_df['security_deposit'].median(), inplace=True)"
   ]
  },
  {
   "cell_type": "code",
   "execution_count": 25,
   "metadata": {},
   "outputs": [],
   "source": [
    "for col in listings_df.columns:\n",
    "    if listings_df[col].isna().mean() > 0:\n",
    "        print(col, listings_df[col].isna().mean()*100)"
   ]
  },
  {
   "cell_type": "markdown",
   "metadata": {},
   "source": [
    "# Set up Dummy Columns"
   ]
  },
  {
   "cell_type": "code",
   "execution_count": 26,
   "metadata": {},
   "outputs": [],
   "source": [
    "# Change amenities column string into a clean tokenized list of strings, will use this later\n",
    "\n",
    "listings_df = clean_and_tokenize_amenities_column(listings_df)"
   ]
  },
  {
   "cell_type": "code",
   "execution_count": 27,
   "metadata": {
    "scrolled": false
   },
   "outputs": [],
   "source": [
    "# Reset index to allow for correct joining of columns\n",
    "\n",
    "listings_df.reset_index(inplace=True,drop=True)"
   ]
  },
  {
   "cell_type": "code",
   "execution_count": 28,
   "metadata": {},
   "outputs": [],
   "source": [
    "# Dummy Amenities column (special as the rows are lists)\n",
    "\n",
    "from sklearn.preprocessing import MultiLabelBinarizer\n",
    "\n",
    "mlb = MultiLabelBinarizer()\n",
    "X = mlb.fit_transform(listings_df['amenities'])\n",
    "\n",
    "listings_df = listings_df.join(pd.DataFrame(X, columns=['amenities_' + x for x in mlb.classes_])).drop('amenities', axis=1)"
   ]
  },
  {
   "cell_type": "code",
   "execution_count": 33,
   "metadata": {},
   "outputs": [],
   "source": [
    "cat_cols = listings_df.select_dtypes(['object', 'bool']).columns\n",
    "num_cols = listings_df.select_dtypes(['int', 'float']).columns"
   ]
  },
  {
   "cell_type": "code",
   "execution_count": 34,
   "metadata": {},
   "outputs": [],
   "source": [
    "def get_dummy_cols(df, cat_cols, dummy_na=False):\n",
    "    \"\"\"\n",
    "    INPUT:\n",
    "    df - pandas dataframe with categorical variables you want to dummy\n",
    "    cat_cols - list of strings that are associated with names of the categorical columns\n",
    "    dummy_na - Bool holding whether you want to dummy NA vals of categorical columns or not\n",
    "    OUTPUT:\n",
    "    df - dataframe with all non-categorical cols unchanged, and all categorical columns replaced with dummy cols\n",
    "    \"\"\"\n",
    "    \n",
    "    for col in cat_cols:\n",
    "        try:\n",
    "            # for each cat add dummy var, drop original column\n",
    "            df = pd.concat([df.drop(col, axis=1), pd.get_dummies(df[col], prefix=col, prefix_sep='_', drop_first=True, dummy_na=dummy_na)], axis=1)\n",
    "        except:\n",
    "            continue\n",
    "            \n",
    "    return df"
   ]
  },
  {
   "cell_type": "code",
   "execution_count": 35,
   "metadata": {},
   "outputs": [],
   "source": [
    "listings_df = get_dummy_cols(listings_df, cat_cols)"
   ]
  },
  {
   "cell_type": "markdown",
   "metadata": {},
   "source": [
    "# Lin Regression Model"
   ]
  },
  {
   "cell_type": "markdown",
   "metadata": {},
   "source": [
    "## Split into train test sets"
   ]
  },
  {
   "cell_type": "code",
   "execution_count": 36,
   "metadata": {},
   "outputs": [],
   "source": [
    "from sklearn.model_selection import train_test_split"
   ]
  },
  {
   "cell_type": "code",
   "execution_count": 40,
   "metadata": {},
   "outputs": [],
   "source": [
    "X = listings_df.drop(['id', 'host_id'], axis=1)\n",
    "y = listings_df['price']\n",
    "\n",
    "X_train, X_test, y_train, y_test = train_test_split(X, y, test_size=0.3, random_state=42)"
   ]
  },
  {
   "cell_type": "code",
   "execution_count": 42,
   "metadata": {},
   "outputs": [],
   "source": [
    "from sklearn.linear_model import LinearRegression\n",
    "lin_model = LinearRegression(normalize=True)"
   ]
  },
  {
   "cell_type": "code",
   "execution_count": 43,
   "metadata": {},
   "outputs": [],
   "source": [
    "lin_model.fit(X_train, y_train)\n",
    "\n",
    "y_test_preds = lin_model.predict(X_test)\n",
    "y_train_preids = lin_model.predict(X_train)"
   ]
  },
  {
   "cell_type": "code",
   "execution_count": null,
   "metadata": {},
   "outputs": [],
   "source": [
    "from sklearn.metrics import r2_score\n",
    "\n"
   ]
  },
  {
   "cell_type": "markdown",
   "metadata": {},
   "source": [
    "# Using summary to predict review_scores_value"
   ]
  },
  {
   "cell_type": "code",
   "execution_count": 41,
   "metadata": {},
   "outputs": [],
   "source": [
    "from nltk.tokenize import RegexpTokenizer\n",
    "\n",
    "tokenizer = RegexpTokenizer(r'\\w+')\n",
    "\n",
    "# Keep NULL values, may not want to discard them\n",
    "listings_df['summary'].fillna('NULL', inplace=True) \n",
    "\n",
    "listings_df['summary_tokens'] = listings_df['summary'].apply(tokenizer.tokenize)"
   ]
  },
  {
   "cell_type": "code",
   "execution_count": 42,
   "metadata": {},
   "outputs": [],
   "source": [
    "summary_vocab = sorted(list(set(word for tokens in listings_df['summary_tokens'] for word in tokens)))"
   ]
  },
  {
   "cell_type": "code",
   "execution_count": 43,
   "metadata": {},
   "outputs": [],
   "source": [
    "from sklearn.linear_model import LinearRegression, LogisticRegression\n",
    "from sklearn.feature_extraction.text import CountVectorizer, TfidfVectorizer"
   ]
  },
  {
   "cell_type": "markdown",
   "metadata": {},
   "source": [
    "# Categorising Review of Value (with Logistic Regression)"
   ]
  },
  {
   "cell_type": "markdown",
   "metadata": {},
   "source": [
    "## Using CountVectorizer"
   ]
  },
  {
   "cell_type": "code",
   "execution_count": 44,
   "metadata": {},
   "outputs": [],
   "source": [
    "def count_vec(data): \n",
    "    count_vectorizer = CountVectorizer()\n",
    "    emb = count_vectorizer.fit_transform(data)\n",
    "    \n",
    "    return emb, count_vectorizer"
   ]
  },
  {
   "cell_type": "markdown",
   "metadata": {},
   "source": [
    "### Splitting into train and test"
   ]
  },
  {
   "cell_type": "code",
   "execution_count": 45,
   "metadata": {},
   "outputs": [],
   "source": [
    "list_corpus = listings_df.dropna(subset=['review_scores_value'])['summary'].to_list()\n",
    "list_values = listings_df.dropna(subset=['review_scores_value'])['review_scores_value'].to_list()\n",
    "\n",
    "X_train, X_test, y_train, y_test = train_test_split(list_corpus, list_values, test_size=0.2, random_state=42)\n",
    "\n",
    "X_train_counts, count_vectorizer = count_vec(X_train)\n",
    "X_test_counts = count_vectorizer.transform(X_test)"
   ]
  },
  {
   "cell_type": "markdown",
   "metadata": {},
   "source": [
    "### Fit and Predict"
   ]
  },
  {
   "cell_type": "code",
   "execution_count": 46,
   "metadata": {},
   "outputs": [],
   "source": [
    "clf = LogisticRegression(C=30, class_weight='balanced', solver='newton-cg', \n",
    "                              multi_class='multinomial', n_jobs=-1, random_state=42)\n",
    "clf.fit(X_train_counts, y_train)\n",
    "\n",
    "y_predicted_counts = clf.predict(X_test_counts)"
   ]
  },
  {
   "cell_type": "markdown",
   "metadata": {},
   "source": [
    "### Evaluation"
   ]
  },
  {
   "cell_type": "code",
   "execution_count": 47,
   "metadata": {},
   "outputs": [],
   "source": [
    "from sklearn.metrics import accuracy_score, f1_score, precision_score, recall_score, classification_report\n",
    "\n",
    "def get_metrics(y_test, y_predicted):  \n",
    "    # true positives / (true positives+false positives)\n",
    "    precision = precision_score(y_test, y_predicted, pos_label=None,\n",
    "                                    average='weighted')             \n",
    "    # true positives / (true positives + false negatives)\n",
    "    recall = recall_score(y_test, y_predicted, pos_label=None,\n",
    "                              average='weighted')\n",
    "    \n",
    "    # harmonic mean of precision and recall\n",
    "    f1 = f1_score(y_test, y_predicted, pos_label=None, average='weighted')\n",
    "    \n",
    "    # true positives + true negatives/ total\n",
    "    accuracy = accuracy_score(y_test, y_predicted)\n",
    "    return accuracy, precision, recall, f1"
   ]
  },
  {
   "cell_type": "code",
   "execution_count": 48,
   "metadata": {},
   "outputs": [
    {
     "name": "stdout",
     "output_type": "stream",
     "text": [
      "accuracy = 0.383, precision = 0.416, recall = 0.383, f1 = 0.396\n"
     ]
    },
    {
     "name": "stderr",
     "output_type": "stream",
     "text": [
      "/home/tomc/miniconda3/envs/ds/lib/python3.7/site-packages/sklearn/metrics/classification.py:1437: UndefinedMetricWarning: Precision is ill-defined and being set to 0.0 in labels with no predicted samples.\n",
      "  'precision', 'predicted', average, warn_for)\n",
      "/home/tomc/miniconda3/envs/ds/lib/python3.7/site-packages/sklearn/metrics/classification.py:1439: UndefinedMetricWarning: Recall is ill-defined and being set to 0.0 in labels with no true samples.\n",
      "  'recall', 'true', average, warn_for)\n",
      "/home/tomc/miniconda3/envs/ds/lib/python3.7/site-packages/sklearn/metrics/classification.py:1437: UndefinedMetricWarning: F-score is ill-defined and being set to 0.0 in labels with no predicted samples.\n",
      "  'precision', 'predicted', average, warn_for)\n",
      "/home/tomc/miniconda3/envs/ds/lib/python3.7/site-packages/sklearn/metrics/classification.py:1439: UndefinedMetricWarning: F-score is ill-defined and being set to 0.0 in labels with no true samples.\n",
      "  'recall', 'true', average, warn_for)\n"
     ]
    }
   ],
   "source": [
    "accuracy, precision, recall, f1 = get_metrics(y_test, y_predicted_counts)\n",
    "print(\"accuracy = %.3f, precision = %.3f, recall = %.3f, f1 = %.3f\" % (accuracy, precision, recall, f1))"
   ]
  },
  {
   "cell_type": "markdown",
   "metadata": {},
   "source": [
    "### Inspection"
   ]
  },
  {
   "cell_type": "code",
   "execution_count": 51,
   "metadata": {},
   "outputs": [],
   "source": [
    "from sklearn.metrics import confusion_matrix\n",
    "\n",
    "def plot_confusion_matrix(cm, classes,\n",
    "                          normalize=False,\n",
    "                          title='Confusion matrix',\n",
    "                          cmap=plt.cm.winter):\n",
    "    if normalize:\n",
    "        cm = cm.astype('float') / cm.sum(axis=1)[:, np.newaxis]\n",
    "    plt.imshow(cm, interpolation='nearest', cmap=cmap)\n",
    "    plt.title(title, fontsize=30)\n",
    "    plt.colorbar()\n",
    "    tick_marks = np.arange(len(classes))\n",
    "    plt.xticks(tick_marks, classes, fontsize=20)\n",
    "    plt.yticks(tick_marks, classes, fontsize=20)\n",
    "    \n",
    "    fmt = '.2f' if normalize else 'd'\n",
    "    thresh = cm.max() / 2.\n",
    "\n",
    "    for i, j in itertools.product(range(cm.shape[0]), range(cm.shape[1])):\n",
    "        plt.text(j, i, format(cm[i, j], fmt), horizontalalignment=\"center\", \n",
    "                 color=\"white\" if cm[i, j] < thresh else \"black\", fontsize=20)\n",
    "    \n",
    "    plt.tight_layout()\n",
    "    plt.ylabel('True label', fontsize=30)\n",
    "    plt.xlabel('Predicted label', fontsize=30)\n",
    "\n",
    "    return plt"
   ]
  },
  {
   "cell_type": "code",
   "execution_count": 52,
   "metadata": {
    "scrolled": false
   },
   "outputs": [
    {
     "data": {
      "image/png": "[encoded data removed]",
      "text/plain": [
       "<Figure size 720x720 with 2 Axes>"
      ]
     },
     "metadata": {
      "needs_background": "light"
     },
     "output_type": "display_data"
    }
   ],
   "source": [
    "cm = confusion_matrix(y_test, y_predicted_counts)\n",
    "fig = plt.figure(figsize=(10,10))\n",
    "plot = plot_confusion_matrix(cm, classes=list(range(int(min(y_test)), int(max(y_test) + 1))), normalize=False)"
   ]
  },
  {
   "cell_type": "markdown",
   "metadata": {},
   "source": [
    "## Using TFIDF to help deal with noise"
   ]
  },
  {
   "cell_type": "code",
   "execution_count": 53,
   "metadata": {},
   "outputs": [],
   "source": [
    "def tfidf(data):\n",
    "    tfidf_vectorizer = TfidfVectorizer()\n",
    "\n",
    "    train = tfidf_vectorizer.fit_transform(data)\n",
    "\n",
    "    return train, tfidf_vectorizer\n",
    "\n",
    "X_train_tfidf, tfidf_vectorizer = tfidf(X_train)\n",
    "X_test_tfidf = tfidf_vectorizer.transform(X_test)"
   ]
  },
  {
   "cell_type": "code",
   "execution_count": 54,
   "metadata": {},
   "outputs": [],
   "source": [
    "clf_tfidf = LogisticRegression(C=30.0, class_weight='balanced', solver='newton-cg', \n",
    "                         multi_class='multinomial', n_jobs=-1, random_state=40)\n",
    "clf_tfidf.fit(X_train_tfidf, y_train)\n",
    "\n",
    "y_predicted_tfidf = clf_tfidf.predict(X_test_tfidf)"
   ]
  },
  {
   "cell_type": "code",
   "execution_count": 55,
   "metadata": {},
   "outputs": [
    {
     "name": "stdout",
     "output_type": "stream",
     "text": [
      "accuracy = 0.407, precision = 0.427, recall = 0.407, f1 = 0.415\n"
     ]
    }
   ],
   "source": [
    "accuracy_tfidf, precision_tfidf, recall_tfidf, f1_tfidf = get_metrics(y_test, y_predicted_tfidf)\n",
    "print(\"accuracy = %.3f, precision = %.3f, recall = %.3f, f1 = %.3f\" % (accuracy_tfidf, precision_tfidf, \n",
    "                                                                       recall_tfidf, f1_tfidf))"
   ]
  },
  {
   "cell_type": "code",
   "execution_count": 109,
   "metadata": {},
   "outputs": [
    {
     "data": {
      "text/plain": [
       "10.0    246\n",
       "9.0     227\n",
       "8.0      64\n",
       "7.0      11\n",
       "6.0       3\n",
       "4.0       2\n",
       "Name: 0, dtype: int64"
      ]
     },
     "execution_count": 109,
     "metadata": {},
     "output_type": "execute_result"
    }
   ],
   "source": [
    "pd.DataFrame(y_test)[0].value_counts()"
   ]
  },
  {
   "cell_type": "code",
   "execution_count": 59,
   "metadata": {},
   "outputs": [
    {
     "data": {
      "image/png": "[encoded data removed]",
      "text/plain": [
       "<Figure size 720x720 with 2 Axes>"
      ]
     },
     "metadata": {
      "needs_background": "light"
     },
     "output_type": "display_data"
    }
   ],
   "source": [
    "cm = confusion_matrix(y_test, y_predicted_tfidf)\n",
    "fig = plt.figure(figsize=(10,10))\n",
    "plot = plot_confusion_matrix(cm, classes=list(range(int(min(y_test)), int(max(y_test) + 1))), normalize=False)"
   ]
  }
 ],
 "metadata": {
  "kernelspec": {
   "display_name": "Python 3",
   "language": "python",
   "name": "python3"
  },
  "language_info": {
   "codemirror_mode": {
    "name": "ipython",
    "version": 3
   },
   "file_extension": ".py",
   "mimetype": "text/x-python",
   "name": "python",
   "nbconvert_exporter": "python",
   "pygments_lexer": "ipython3",
   "version": "3.7.3"
  }
 },
 "nbformat": 4,
 "nbformat_minor": 2
}
